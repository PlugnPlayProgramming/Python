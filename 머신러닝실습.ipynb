{
 "cells": [
  {
   "cell_type": "markdown",
   "metadata": {},
   "source": [
    "python 3.10\n",
    "matplotlib 3.5.2\n",
    "pandas 1.4.3\n",
    "numpy 1.23.1\n",
    "sklearn 1.1.2\n",
    "seaborn 0.12.0\n",
    "graphviz 0.20.1 (graphviz-6.0.1 64-bit)"
   ]
  },
  {
   "cell_type": "markdown",
   "metadata": {
    "id": "r_XGt3A1OCLY"
   },
   "source": [
    "# 머신러닝 실습\n"
   ]
  },
  {
   "cell_type": "markdown",
   "metadata": {
    "id": "fnabcWuMUmCr"
   },
   "source": [
    "## Part1. Linear regression(선형회귀) 실습\n",
    " - 월별로 지출 그래프를 그려보고, 이를 그래프에서 회귀선으로 표현"
   ]
  },
  {
   "cell_type": "markdown",
   "metadata": {
    "id": "MkOEdP79VKPi"
   },
   "source": [
    "### 사용할 라이브러리 불러오기\n",
    "1. 시각화 라이브러리, as로 이름 변경\n",
    "2. 행렬,배열 라이브러리, as로 이름변경\n",
    "3. Skleran에서 제공하는 LinearRegression 불러오기\n",
    "4. Model 평가를 위해 mean_squared_error, r2_score 불러오기"
   ]
  },
  {
   "cell_type": "code",
   "execution_count": 1,
   "metadata": {
    "executionInfo": {
     "elapsed": 1281,
     "status": "ok",
     "timestamp": 1661213274239,
     "user": {
      "displayName": "김재경",
      "userId": "17640319238031841520"
     },
     "user_tz": -540
    },
    "id": "syzhSiGajCgs"
   },
   "outputs": [],
   "source": [
    "import matplotlib.pyplot as plt\n",
    "import numpy as np \n",
    "from sklearn.linear_model import LinearRegression \n",
    "from sklearn.metrics import mean_squared_error, r2_score "
   ]
  },
  {
   "cell_type": "markdown",
   "metadata": {
    "id": "5vPxhXsCOKix"
   },
   "source": [
    "### 사용할 데이터셋 생성\n",
    "1. 1~12월까지의 수익을 각각 변수 months, expenditure로 표기하고 임의의 값을 지정 (단위: month=월, expenditure=만원)\n",
    "2. np.array 명령어를 사용해 1행 12열 배열 생성\n",
    "3. 변수.reshape(행,열) 명령어를 사용해 배열의 차원을 12행 1열로 변경\n",
    "4. reshape에서 '-1'은 data의 size기반으로 행의 개수를 선정\n",
    "  -> months의 경우 data가 12개이기 때문에 12행으로 변환"
   ]
  },
  {
   "cell_type": "code",
   "execution_count": 2,
   "metadata": {
    "executionInfo": {
     "elapsed": 8,
     "status": "ok",
     "timestamp": 1661213274240,
     "user": {
      "displayName": "김재경",
      "userId": "17640319238031841520"
     },
     "user_tz": -540
    },
    "id": "sM1LAjrQjOU-"
   },
   "outputs": [],
   "source": [
    "months = np.array([1,2,3,4,5,6,7,8,9,10,11,12])\n",
    "months = months.reshape(-1,1)\n",
    "expenditure = np.array([40, 80, 75, 90, 111, 120, 129, 126, 138, 146, 165, 170])"
   ]
  },
  {
   "cell_type": "markdown",
   "metadata": {
    "id": "A5TzKQjwPbRD"
   },
   "source": [
    "### LinearRegression model 생성\n",
    "1. LR 이라는 이름으로 LinearRegression model을 선언\n",
    "2. LR model에 months , expenditure를 적용해 학습 -> 학습된 model은 선형회귀식(LinearRegression)으로 표현됨\n",
    "3. 'model이름.predict(model)' 명령어로 학습된 model이 예측한 월별 수익 결과 확인 -> 결과를 expenditure_pred로 선언"
   ]
  },
  {
   "cell_type": "code",
   "execution_count": 4,
   "metadata": {
    "executionInfo": {
     "elapsed": 7,
     "status": "ok",
     "timestamp": 1661213274240,
     "user": {
      "displayName": "김재경",
      "userId": "17640319238031841520"
     },
     "user_tz": -540
    },
    "id": "omdomfQnk1j_"
   },
   "outputs": [],
   "source": [
    "LR = LinearRegression()\n",
    "LR.fit(months, expenditure)\n",
    "expenditure_pred=LR.predict(months)"
   ]
  },
  {
   "cell_type": "markdown",
   "metadata": {
    "id": "UHx2VriJRNhC"
   },
   "source": [
    "### Model 평가하기\n",
    "1. 'LR.coef_' 를 이용해 model이 예측한 회귀 수식의 coefficient값(기울기)을 확인가능\n",
    "   절편은 intercept_\n",
    "2. 생성된 예측 model의 평가 지표 확인하기\n",
    "3. 'mean_squared_error(실제값,예측값)' 을 통해 MAE값 출력, 'r2_score(실제값,예측값)' 을 통해 R2값 출력\n",
    "  - Mean Absolute Error(MAE) : 실제값과 예측값의 차이를 절댓값으로 변환해 평균한 것\n",
    "  - Mean Squared Error(MSE) : 실제값과 예측값의 차이를 제곱해 평균한 것\n",
    "  - Root Mean Squared Error(RMSE) : MSE값은 오류의 제곱을 구하므로 실제 오류 평균보다 커지는 특성이 있으므로 MSE에 루트를 씌움. 숫자가 작을수록 성능이 좋음\n",
    "  - R²: 분산 기반으로 예측 성능을 평가. 실제값의 분산 대비 예측값의 분산 비율을 지표로 하며, 1에 가까울 수록 예측 정확도가 높음"
   ]
  },
  {
   "cell_type": "code",
   "execution_count": 6,
   "metadata": {
    "colab": {
     "base_uri": "https://localhost:8080/"
    },
    "executionInfo": {
     "elapsed": 7,
     "status": "ok",
     "timestamp": 1661213274240,
     "user": {
      "displayName": "김재경",
      "userId": "17640319238031841520"
     },
     "user_tz": -540
    },
    "id": "LA9llbzkmIVn",
    "outputId": "218dc1ee-dad8-4de2-8f8b-0aa577e0b94f"
   },
   "outputs": [
    {
     "name": "stdout",
     "output_type": "stream",
     "text": [
      "Coefficients:[10.44055944]\n",
      "Intercept:47.969696969697\n",
      "Mean squred error:%70.99\n",
      "Coefficients of determination :0.95\n"
     ]
    }
   ],
   "source": [
    "print(f\"Coefficients:{LR.coef_}\")\n",
    "print(f\"Intercept:{LR.intercept_}\")\n",
    "print(f'Mean squred error:%{mean_squared_error(expenditure, expenditure_pred):.2f}' )\n",
    "print(f\"Coefficients of determination :{r2_score(expenditure, expenditure_pred):.2f}\")"
   ]
  },
  {
   "cell_type": "markdown",
   "metadata": {
    "id": "4yULqGc-UEcI"
   },
   "source": [
    "### 그래프로 시각화하기\n",
    "  - plt.scatter(x,y,alpha) : 산점도를 그리는 명령어, x = x변수, y = y변수, c = 색상, alpha = 투명도\n",
    "  - plt.plot(x,y) : 선을 그리는 명령어 x = x변수, y = y변수\n",
    "  - plt.xlabel(\"\"),plt.ylabel(\"\") : x와 y의 이름 지정\n",
    "  - plt.show() :plot 출력"
   ]
  },
  {
   "cell_type": "code",
   "execution_count": 9,
   "metadata": {
    "colab": {
     "base_uri": "https://localhost:8080/",
     "height": 279
    },
    "executionInfo": {
     "elapsed": 6,
     "status": "ok",
     "timestamp": 1661213274241,
     "user": {
      "displayName": "김재경",
      "userId": "17640319238031841520"
     },
     "user_tz": -540
    },
    "id": "i2DY-5t_oQ9Z",
    "outputId": "f25f167b-6509-44b4-d39d-78f1c539d1f0"
   },
   "outputs": [
    {
     "data": {
      "image/png": "[encoded data removed]",
      "text/plain": [
       "<Figure size 432x288 with 1 Axes>"
      ]
     },
     "metadata": {
      "needs_background": "light"
     },
     "output_type": "display_data"
    }
   ],
   "source": [
    "plt.scatter(months, expenditure, c='r', alpha=0.5)\n",
    "plt.plot(months, expenditure_pred)\n",
    "plt.xlabel('months')\n",
    "plt.ylabel('expenditure')\n",
    "plt.show()"
   ]
  },
  {
   "cell_type": "code",
   "execution_count": 5,
   "metadata": {
    "executionInfo": {
     "elapsed": 5,
     "status": "ok",
     "timestamp": 1661213274241,
     "user": {
      "displayName": "김재경",
      "userId": "17640319238031841520"
     },
     "user_tz": -540
    },
    "id": "LCMN0taeVZ7J"
   },
   "outputs": [],
   "source": []
  },
  {
   "cell_type": "markdown",
   "metadata": {
    "id": "mdVeCay2Uf1c"
   },
   "source": [
    "## Part2. K-Nearest neighbors(최근접 이웃 분류)실습\n",
    " - iris data의 sepal length, width를 이용해 classification 해보기"
   ]
  },
  {
   "cell_type": "markdown",
   "metadata": {
    "id": "oLQUyGdG3Zr_"
   },
   "source": [
    "### KNN classification 기본구조\n",
    "1. KneighborsClassifier(n_neighbors=5, *, weights='uniform', algorithm='auto', leaf_size=30, p=2, metric='minkowski', metric_params=None, n_jobs=None)\n",
    "2. 중요 Hyperparameter = n_neighbors : 기본 neighbor의 수, weight : 가중치함수, algorithm : 계산알고리즘"
   ]
  },
  {
   "cell_type": "markdown",
   "metadata": {
    "id": "3o1QA2SrUykA"
   },
   "source": [
    "### 사용할 라이브러리 불러오기\n",
    " -  \n",
    " - Data input과 시각화를 위해서 matplotlib.pyplot, numpy, seaborn library를 불러오기\n",
    " - Seaborn library : Data 시각화 관련 library로 matplot 기반에서 더 다양한 색상 테마와 차트 기능 추가\n",
    " - matplotlib.colors의 ListedColormap : 경계에 따라 colormap을 그려주는 시각화 라이브러리, colormap을 통해 classification된 영역을 한눈에 알아볼 수 있음\n",
    " - sklearn에서 제공하는 Iris(붓꽃) dataset을 이용하기 위해 sklearn의 'dataset'을 불러오기\n",
    " - sklearn에서 제공하는 classification model 중 'neighbors' 불러오기 \n",
    " - %matplotlib inline : 실행한 결과를 브라우저에서 바로 출력"
   ]
  },
  {
   "cell_type": "code",
   "execution_count": 2,
   "metadata": {
    "executionInfo": {
     "elapsed": 493,
     "status": "ok",
     "timestamp": 1661213274730,
     "user": {
      "displayName": "김재경",
      "userId": "17640319238031841520"
     },
     "user_tz": -540
    },
    "id": "hPj9Uf7Lo-iN"
   },
   "outputs": [],
   "source": [
    "from ast import increment_lineno\n",
    "import numpy as np\n",
    "import matplotlib.pyplot as plt\n",
    "import seaborn as sns\n",
    "from matplotlib.colors import ListedColormap\n",
    "from sklearn import neighbors, datasets\n",
    "%matplotlib inline"
   ]
  },
  {
   "cell_type": "markdown",
   "metadata": {
    "id": "XOMAb0lcuiSa"
   },
   "source": [
    "### meshgrid 기초예제로 이해하기"
   ]
  },
  {
   "cell_type": "code",
   "execution_count": 3,
   "metadata": {
    "colab": {
     "base_uri": "https://localhost:8080/"
    },
    "executionInfo": {
     "elapsed": 332,
     "status": "ok",
     "timestamp": 1661213701529,
     "user": {
      "displayName": "김재경",
      "userId": "17640319238031841520"
     },
     "user_tz": -540
    },
    "id": "Ge8bm_fBukPg",
    "outputId": "e89d9e03-0b77-48b2-e49c-e0cb4616c80b"
   },
   "outputs": [
    {
     "name": "stdout",
     "output_type": "stream",
     "text": [
      "[1 2 3]\n",
      "[4 5 6]\n"
     ]
    }
   ],
   "source": [
    "# np,arrange로 배열 확인\n",
    "x = np.arange(1,4,1)\n",
    "y = np.arange(4,7,1)\n",
    "print(x)\n",
    "print(y)"
   ]
  },
  {
   "cell_type": "code",
   "execution_count": 4,
   "metadata": {
    "colab": {
     "base_uri": "https://localhost:8080/"
    },
    "executionInfo": {
     "elapsed": 8,
     "status": "ok",
     "timestamp": 1661213274731,
     "user": {
      "displayName": "김재경",
      "userId": "17640319238031841520"
     },
     "user_tz": -540
    },
    "id": "6H4uxmr9umZn",
    "outputId": "59f5e5b6-a565-492d-8607-468ba1ca4fe7"
   },
   "outputs": [
    {
     "name": "stdout",
     "output_type": "stream",
     "text": [
      "[[1 2 3]\n",
      " [1 2 3]\n",
      " [1 2 3]]\n",
      "[[4 4 4]\n",
      " [5 5 5]\n",
      " [6 6 6]]\n"
     ]
    }
   ],
   "source": [
    "# 생성된 배열로 mesh만들고 xx,yy로 선언\n",
    "xx, yy = np.meshgrid(x,y)\n",
    "print(xx)\n",
    "print(yy)"
   ]
  },
  {
   "cell_type": "code",
   "execution_count": 5,
   "metadata": {
    "colab": {
     "base_uri": "https://localhost:8080/"
    },
    "executionInfo": {
     "elapsed": 6,
     "status": "ok",
     "timestamp": 1661213274731,
     "user": {
      "displayName": "김재경",
      "userId": "17640319238031841520"
     },
     "user_tz": -540
    },
    "id": "j2U6knDNumWO",
    "outputId": "c7007b75-1ba4-4884-e98b-f0d6564a6578"
   },
   "outputs": [
    {
     "name": "stdout",
     "output_type": "stream",
     "text": [
      "[1 2 3 1 2 3 1 2 3]\n",
      "[4 4 4 5 5 5 6 6 6]\n"
     ]
    }
   ],
   "source": [
    "# .ravel()을 사용해 mesh를 list로 변환\n",
    "xxr = xx.ravel()\n",
    "yyr = yy.ravel()\n",
    "print(xxr)\n",
    "print(yyr)"
   ]
  },
  {
   "cell_type": "code",
   "execution_count": 6,
   "metadata": {
    "colab": {
     "base_uri": "https://localhost:8080/"
    },
    "executionInfo": {
     "elapsed": 5,
     "status": "ok",
     "timestamp": 1661213274731,
     "user": {
      "displayName": "김재경",
      "userId": "17640319238031841520"
     },
     "user_tz": -540
    },
    "id": "hiWTfoWQumSZ",
    "outputId": "d0d20521-b563-4c5a-cdf0-d5af5258d119"
   },
   "outputs": [
    {
     "name": "stdout",
     "output_type": "stream",
     "text": [
      "[[1 4]\n",
      " [2 4]\n",
      " [3 4]\n",
      " [1 5]\n",
      " [2 5]\n",
      " [3 5]\n",
      " [1 6]\n",
      " [2 6]\n",
      " [3 6]]\n"
     ]
    }
   ],
   "source": [
    "# list들을 세로로 붙여 2차원 배열 형성\n",
    "Z = np.c_[xxr,yyr]\n",
    "print(Z)"
   ]
  },
  {
   "cell_type": "code",
   "execution_count": 7,
   "metadata": {
    "colab": {
     "base_uri": "https://localhost:8080/",
     "height": 265
    },
    "executionInfo": {
     "elapsed": 860,
     "status": "ok",
     "timestamp": 1661213512042,
     "user": {
      "displayName": "김재경",
      "userId": "17640319238031841520"
     },
     "user_tz": -540
    },
    "id": "OFvxgXBfBxOB",
    "outputId": "375971b0-5e70-4b66-beaa-27865a1d8c0e"
   },
   "outputs": [
    {
     "data": {
      "image/png": "[encoded data removed]",
      "text/plain": [
       "<Figure size 432x288 with 1 Axes>"
      ]
     },
     "metadata": {
      "needs_background": "light"
     },
     "output_type": "display_data"
    }
   ],
   "source": [
    "plt.scatter(xxr, yyr, c='r', alpha=0.5)\n",
    "plt.show()"
   ]
  },
  {
   "cell_type": "markdown",
   "metadata": {
    "id": "DnHnsXmuX0ys"
   },
   "source": [
    "### 사용할 데이터셋 생성\n",
    " -  'datasets.load_iris()' 로 iris data를 load해 iris로 선언\n",
    " - X에는 iris data의 1,2번째 열까지 사용, y는 iris data에서 제공하는 target (0,1,2) = (setosa, versicolor, viginica) 선언\n",
    " - KNN은 supervised learning (지도학습) 이기 때문에 target data를 사용"
   ]
  },
  {
   "cell_type": "code",
   "execution_count": 8,
   "metadata": {
    "executionInfo": {
     "elapsed": 5,
     "status": "ok",
     "timestamp": 1661213274732,
     "user": {
      "displayName": "김재경",
      "userId": "17640319238031841520"
     },
     "user_tz": -540
    },
    "id": "-oi8TeD2X_i2"
   },
   "outputs": [],
   "source": [
    "iris = datasets.load_iris()\n",
    "X=iris.data[:,:2]\n",
    "y=iris.target"
   ]
  },
  {
   "cell_type": "markdown",
   "metadata": {
    "id": "MkV5sAXnZiuZ"
   },
   "source": [
    "### KNN classifier model 생성\n",
    " - 'neighbors.KNeighborsClassifier(n_neighbors, weights=weights)' 을 통해서 model을 생성하고, n_neighbors의 값과, 가중치를 설정해 clf라고 선언\n",
    " - 'model이름.fit(X,y)' 로 변수 X,y를 modle에 적용, 'model이름.score(X,y)'로 model 평가"
   ]
  },
  {
   "cell_type": "code",
   "execution_count": 9,
   "metadata": {
    "colab": {
     "base_uri": "https://localhost:8080/"
    },
    "executionInfo": {
     "elapsed": 4,
     "status": "ok",
     "timestamp": 1661213274732,
     "user": {
      "displayName": "김재경",
      "userId": "17640319238031841520"
     },
     "user_tz": -540
    },
    "id": "Evsjmj_vp2Al",
    "outputId": "9bf03ea2-2099-41a8-ae17-706954df312f"
   },
   "outputs": [
    {
     "data": {
      "text/plain": [
       "0.9266666666666666"
      ]
     },
     "execution_count": 9,
     "metadata": {},
     "output_type": "execute_result"
    }
   ],
   "source": [
    "n_neighbors = 15\n",
    "weights = 'distance'\n",
    "clf = neighbors.KNeighborsClassifier(n_neighbors, weights=weights)\n",
    "clf.fit(X,y)\n",
    "clf.score(X,y)"
   ]
  },
  {
   "cell_type": "markdown",
   "metadata": {
    "id": "SY3LYANKau3Z"
   },
   "source": [
    "### 데이터 시각화 - 1\n",
    " - x,y축을 meshgrid로 변환해서 classification하고 색상으로 나타내기 위한 code\n",
    " - x_min, x_max = x축 data(IRIS의 0열)에 각각 min - 1, max + 1 으로 실제 값들 범위보다 plot 크기를 크게 잡기 위한 것\n",
    " -  y_min, y_max = y축 data(IRIS의 1열) 범위보다 plot크기가 크게 범위 설정\n",
    " - 'np.arrange(x,y,h)' : arrange 함수를 사용해 x ~ y(x_min ~ x_max) 까지 간격이 h인 배열을 선언\n",
    " - 'np.meshgird(x,y)' : meshgrid 함수로 x는 행으로 중복출력, y는 열로 중복 출력 -> x*y 의 mesh형성\n",
    " - 생성된 배열을 'model이름.predict()' 로 예측해 z로 선언"
   ]
  },
  {
   "cell_type": "code",
   "execution_count": 10,
   "metadata": {
    "executionInfo": {
     "elapsed": 386,
     "status": "ok",
     "timestamp": 1661213275115,
     "user": {
      "displayName": "김재경",
      "userId": "17640319238031841520"
     },
     "user_tz": -540
    },
    "id": "Ce2VPSa2aFVr"
   },
   "outputs": [],
   "source": [
    "h = .02\n",
    "x_min, x_max = X[:,0].min() - 1, X[:,0].max() + 1\n",
    "y_min, y_max = X[:,1].min() - 1, X[:,1].max() + 1\n",
    "xx,yy = np.meshgrid(np.arange(x_min, x_max, h), np.arange(y_min, y_max, h))\n",
    "Z = clf.predict(np.c_[xx.ravel(), yy.ravel()])"
   ]
  },
  {
   "cell_type": "markdown",
   "metadata": {
    "id": "3LnBEEC9dJ_r"
   },
   "source": [
    "### 데이터 시각화 - 2\n",
    "1. 'ListedColormap([색상])' 함수를 사용해 Light(면)에 colormap을 형성할 수 있또록 색상 지정을 cmap_light로 선언\n",
    "2. 'cmap_bold' 에 색상 지정"
   ]
  },
  {
   "cell_type": "code",
   "execution_count": 11,
   "metadata": {
    "executionInfo": {
     "elapsed": 2,
     "status": "ok",
     "timestamp": 1661213275116,
     "user": {
      "displayName": "김재경",
      "userId": "17640319238031841520"
     },
     "user_tz": -540
    },
    "id": "YyyaWDC4da6Z"
   },
   "outputs": [],
   "source": [
    "cmap_light = ListedColormap(['orange','cyan','cornflowerblue'])\n",
    "cmap_bold = ['darkorange','c','darkblue']"
   ]
  },
  {
   "cell_type": "markdown",
   "metadata": {
    "id": "FrPwHNnBd_JD"
   },
   "source": [
    " - 'Z.reshape()' 을 이용해 xx.shape와 같은 차원으로 Z를 재배열\n",
    " - 'plt.figure(figsize=(size지정))' : figure의 size를 지정\n",
    " - 'plt.contourf(X,Y,Z, camp=target)' : 분류된 영역 X,Y,Z(class) 에 지정된 target 색상으로 표현\n",
    " - 'sns.scatterplot(x,y,hue=변수이름지정,palette=색상지정,alpha=투명도,edgecolor=모서리색상지정)' : iris 산점도를 그릴 때 지정된 이름에 따라 점들에 색상을 입히도록 함\n",
    " - . iris.target_names는 'setosa, versicolor, virginica' 로 [y]는 0~2로 나누어 표현한 배열, iris.target_names[y]로 작성 시 y값의 0,1,2 에 각각의 이름이 부여됨\n",
    " -  'plt.xlim(), plt.ylim()' : x, y축의 최소, 최댓값을 설정\n",
    " - 'plt.tilte()' : plot의 제목을 설정\n",
    " -  'plt.xlabel(), plt.ylabel()' : x, y축의 이름을 지정, iris.feature_names[]로 지정된 feature의 이름을 x, y축에 적용"
   ]
  },
  {
   "cell_type": "code",
   "execution_count": 12,
   "metadata": {
    "colab": {
     "base_uri": "https://localhost:8080/",
     "height": 404
    },
    "executionInfo": {
     "elapsed": 602,
     "status": "ok",
     "timestamp": 1661213275716,
     "user": {
      "displayName": "김재경",
      "userId": "17640319238031841520"
     },
     "user_tz": -540
    },
    "id": "MNYAciHedbhR",
    "outputId": "ab9850e6-d106-423f-abcd-187050d0a752"
   },
   "outputs": [
    {
     "data": {
      "image/png": "[encoded data removed]",
      "text/plain": [
       "<Figure size 576x432 with 1 Axes>"
      ]
     },
     "metadata": {
      "needs_background": "light"
     },
     "output_type": "display_data"
    }
   ],
   "source": [
    "Z = Z.reshape(xx.shape)\n",
    "plt.figure(figsize=(8,6))\n",
    "plt.contourf(xx, yy, Z, cmap=cmap_light)\n",
    "sns.scatterplot(x=X[:, 0],y=X[:, 1], hue=iris.target_names[y], palette=cmap_bold, alpha=1.0, edgecolor=\"black\")\n",
    "\n",
    "plt.xlim(xx.min(), xx.max())\n",
    "plt.ylim(yy.min(), yy.max())\n",
    "plt.title(\"3-Class classification (k=%i, weights = '%s')\" % (n_neighbors, weights))\n",
    "plt.xlabel(iris.feature_names[0])\n",
    "plt.ylabel(iris.feature_names[1])\n",
    "plt.show()"
   ]
  },
  {
   "cell_type": "code",
   "execution_count": 15,
   "metadata": {
    "executionInfo": {
     "elapsed": 6,
     "status": "ok",
     "timestamp": 1661213275716,
     "user": {
      "displayName": "김재경",
      "userId": "17640319238031841520"
     },
     "user_tz": -540
    },
    "id": "7yemTCmUy7Mk"
   },
   "outputs": [],
   "source": []
  },
  {
   "cell_type": "markdown",
   "metadata": {
    "id": "9jNlhBNwy7i_"
   },
   "source": [
    "## Part3. Decision tree_classification 실습\n",
    " - iris data를 train, test data로 split해 classification 하고 model 평가"
   ]
  },
  {
   "cell_type": "markdown",
   "metadata": {
    "id": "7DfbYhNC3Vwd"
   },
   "source": [
    "### Decision tree의 기본 구조\n",
    " - DecisionTreeClassifier(*, criterion='gini', splitter='bset', max_depth=None, min_samples_split=2, min_samples_leaf=1, min_weight_fraction_leaf=0.0, max_features=None, random_state=None, max_leaf_nodes=None, min_impurity_decrease=0.0, class_weight=None, ccp_alpha=0.0)\n",
    " - 중요 Hyperparameter \n",
    "  - criterion : gini/entropy 분할 품질 측정 방법\n",
    "  - max_depth : 트리 최대 개수\n",
    "  - min_samples_split : 노드 내의 최소 샘플 수\n",
    "  - min_sample_leaf : 최하위 노드의 최소 샘플 수\n",
    "  - max_leaf_nodes : 최하위 노드의 최대 수\n",
    "  - max_features : 최적의 분할을 위해 고려할 최대 feature 수"
   ]
  },
  {
   "cell_type": "markdown",
   "metadata": {
    "id": "lvMIvmFSzKye"
   },
   "source": [
    "### 사용할 라이브러리 불러오기\n",
    " - Sklearn에서 제공하는 sklearn.tree의 DecisionTreeClassifier 불러오기\n",
    " - Sklearn에서 제공하는 datasets 불러오기\n",
    " - Data를 train, test로 나누기 위해 sklearn.model_selection의 train_test_split 불러오기\n",
    " - Tree를 시각화하기 위해 sklearn.tree의 export_graphviz를 불러오기\n",
    " - Model을 평가하기 위한 sklearn.metrics의 accuracy_score 불러오기\n"
   ]
  },
  {
   "cell_type": "code",
   "execution_count": 13,
   "metadata": {
    "executionInfo": {
     "elapsed": 6,
     "status": "ok",
     "timestamp": 1661213275716,
     "user": {
      "displayName": "김재경",
      "userId": "17640319238031841520"
     },
     "user_tz": -540
    },
    "id": "-WaHkvCyqccw"
   },
   "outputs": [],
   "source": [
    "from sklearn.tree import DecisionTreeClassifier\n",
    "from sklearn import datasets\n",
    "from sklearn.model_selection import train_test_split\n",
    "from sklearn.tree import export_graphviz\n",
    "from sklearn.metrics import accuracy_score"
   ]
  },
  {
   "cell_type": "markdown",
   "metadata": {
    "id": "OpICOq1k0SOt"
   },
   "source": [
    "### Dataset 설정\n",
    " - 'datsset.load_iris()' : iris data를 load하고 iris로 선언\n",
    " - 'train_test_split(X, Y, test_size=크기지정, random_state=변수지정)' : 학습용,평가용으로 data를 split하는 함수\n",
    "  - X, Y라는 dataset을 X_train, X_test, y_train, y_test로 나누어줌\n",
    "  - 'test_size' parameter를 이용해 dataset에서 test data의 비율 설정\n",
    "  - 'random_state' parameter는 dataset 분할 시 shuffle의 시드값 설정\n"
   ]
  },
  {
   "cell_type": "code",
   "execution_count": 14,
   "metadata": {
    "executionInfo": {
     "elapsed": 6,
     "status": "ok",
     "timestamp": 1661213275716,
     "user": {
      "displayName": "김재경",
      "userId": "17640319238031841520"
     },
     "user_tz": -540
    },
    "id": "hornT4J30RkO"
   },
   "outputs": [],
   "source": [
    "iris = datasets.load_iris()\n",
    "X_train, X_test, y_train, y_test = train_test_split(iris.data, iris.target, test_size=0.2, random_state=11)"
   ]
  },
  {
   "cell_type": "markdown",
   "metadata": {
    "id": "z3dr7woM3dGZ"
   },
   "source": [
    "### Decision Tree model  생성\n",
    " - DecisionTreeClassifier model을 random_state 156으로 설정해 생성하고 DT_CLF로 선언\n",
    " - 학습용 train data를 'model이름.fit()' 을 이용해 model에 적용"
   ]
  },
  {
   "cell_type": "code",
   "execution_count": 15,
   "metadata": {
    "colab": {
     "base_uri": "https://localhost:8080/"
    },
    "executionInfo": {
     "elapsed": 6,
     "status": "ok",
     "timestamp": 1661213275717,
     "user": {
      "displayName": "김재경",
      "userId": "17640319238031841520"
     },
     "user_tz": -540
    },
    "id": "ATYhQp7TwW-X",
    "outputId": "8ea9d6a7-d49e-48ca-8b2d-9310db3ec80c"
   },
   "outputs": [
    {
     "data": {
      "text/html": [
       "<style>#sk-container-id-1 {color: black;background-color: white;}#sk-container-id-1 pre{padding: 0;}#sk-container-id-1 div.sk-toggleable {background-color: white;}#sk-container-id-1 label.sk-toggleable__label {cursor: pointer;display: block;width: 100%;margin-bottom: 0;padding: 0.3em;box-sizing: border-box;text-align: center;}#sk-container-id-1 label.sk-toggleable__label-arrow:before {content: \"▸\";float: left;margin-right: 0.25em;color: #696969;}#sk-container-id-1 label.sk-toggleable__label-arrow:hover:before {color: black;}#sk-container-id-1 div.sk-estimator:hover label.sk-toggleable__label-arrow:before {color: black;}#sk-container-id-1 div.sk-toggleable__content {max-height: 0;max-width: 0;overflow: hidden;text-align: left;background-color: #f0f8ff;}#sk-container-id-1 div.sk-toggleable__content pre {margin: 0.2em;color: black;border-radius: 0.25em;background-color: #f0f8ff;}#sk-container-id-1 input.sk-toggleable__control:checked~div.sk-toggleable__content {max-height: 200px;max-width: 100%;overflow: auto;}#sk-container-id-1 input.sk-toggleable__control:checked~label.sk-toggleable__label-arrow:before {content: \"▾\";}#sk-container-id-1 div.sk-estimator input.sk-toggleable__control:checked~label.sk-toggleable__label {background-color: #d4ebff;}#sk-container-id-1 div.sk-label input.sk-toggleable__control:checked~label.sk-toggleable__label {background-color: #d4ebff;}#sk-container-id-1 input.sk-hidden--visually {border: 0;clip: rect(1px 1px 1px 1px);clip: rect(1px, 1px, 1px, 1px);height: 1px;margin: -1px;overflow: hidden;padding: 0;position: absolute;width: 1px;}#sk-container-id-1 div.sk-estimator {font-family: monospace;background-color: #f0f8ff;border: 1px dotted black;border-radius: 0.25em;box-sizing: border-box;margin-bottom: 0.5em;}#sk-container-id-1 div.sk-estimator:hover {background-color: #d4ebff;}#sk-container-id-1 div.sk-parallel-item::after {content: \"\";width: 100%;border-bottom: 1px solid gray;flex-grow: 1;}#sk-container-id-1 div.sk-label:hover label.sk-toggleable__label {background-color: #d4ebff;}#sk-container-id-1 div.sk-serial::before {content: \"\";position: absolute;border-left: 1px solid gray;box-sizing: border-box;top: 0;bottom: 0;left: 50%;z-index: 0;}#sk-container-id-1 div.sk-serial {display: flex;flex-direction: column;align-items: center;background-color: white;padding-right: 0.2em;padding-left: 0.2em;position: relative;}#sk-container-id-1 div.sk-item {position: relative;z-index: 1;}#sk-container-id-1 div.sk-parallel {display: flex;align-items: stretch;justify-content: center;background-color: white;position: relative;}#sk-container-id-1 div.sk-item::before, #sk-container-id-1 div.sk-parallel-item::before {content: \"\";position: absolute;border-left: 1px solid gray;box-sizing: border-box;top: 0;bottom: 0;left: 50%;z-index: -1;}#sk-container-id-1 div.sk-parallel-item {display: flex;flex-direction: column;z-index: 1;position: relative;background-color: white;}#sk-container-id-1 div.sk-parallel-item:first-child::after {align-self: flex-end;width: 50%;}#sk-container-id-1 div.sk-parallel-item:last-child::after {align-self: flex-start;width: 50%;}#sk-container-id-1 div.sk-parallel-item:only-child::after {width: 0;}#sk-container-id-1 div.sk-dashed-wrapped {border: 1px dashed gray;margin: 0 0.4em 0.5em 0.4em;box-sizing: border-box;padding-bottom: 0.4em;background-color: white;}#sk-container-id-1 div.sk-label label {font-family: monospace;font-weight: bold;display: inline-block;line-height: 1.2em;}#sk-container-id-1 div.sk-label-container {text-align: center;}#sk-container-id-1 div.sk-container {/* jupyter's `normalize.less` sets `[hidden] { display: none; }` but bootstrap.min.css set `[hidden] { display: none !important; }` so we also need the `!important` here to be able to override the default hidden behavior on the sphinx rendered scikit-learn.org. See: https://github.com/scikit-learn/scikit-learn/issues/21755 */display: inline-block !important;position: relative;}#sk-container-id-1 div.sk-text-repr-fallback {display: none;}</style><div id=\"sk-container-id-1\" class=\"sk-top-container\"><div class=\"sk-text-repr-fallback\"><pre>DecisionTreeClassifier(random_state=156)</pre><b>In a Jupyter environment, please rerun this cell to show the HTML representation or trust the notebook. <br />On GitHub, the HTML representation is unable to render, please try loading this page with nbviewer.org.</b></div><div class=\"sk-container\" hidden><div class=\"sk-item\"><div class=\"sk-estimator sk-toggleable\"><input class=\"sk-toggleable__control sk-hidden--visually\" id=\"sk-estimator-id-1\" type=\"checkbox\" checked><label for=\"sk-estimator-id-1\" class=\"sk-toggleable__label sk-toggleable__label-arrow\">DecisionTreeClassifier</label><div class=\"sk-toggleable__content\"><pre>DecisionTreeClassifier(random_state=156)</pre></div></div></div></div></div>"
      ],
      "text/plain": [
       "DecisionTreeClassifier(random_state=156)"
      ]
     },
     "execution_count": 15,
     "metadata": {},
     "output_type": "execute_result"
    }
   ],
   "source": [
    "DT_CLF = DecisionTreeClassifier(random_state=156)\n",
    "DT_CLF.fit(X_train, y_train)"
   ]
  },
  {
   "cell_type": "markdown",
   "metadata": {
    "id": "nIM0jOpZ4U4Q"
   },
   "source": [
    "### 시각화를 위한 grapviz 파일 생성\n",
    "  - export_graphviz() 함수를 사용해 graphviz 파일 생성\n",
    "  - export_graphviz(출력할 model, out_file= \"file 이름\", class_names = class 이름지정, feature_names = feature 이름지정, impurity = True(불순도 출력), filled=True(색상채움)"
   ]
  },
  {
   "cell_type": "code",
   "execution_count": 16,
   "metadata": {
    "executionInfo": {
     "elapsed": 4,
     "status": "ok",
     "timestamp": 1661213275717,
     "user": {
      "displayName": "김재경",
      "userId": "17640319238031841520"
     },
     "user_tz": -540
    },
    "id": "Jip6FKUv4TM4"
   },
   "outputs": [],
   "source": [
    "export_graphviz(DT_CLF, out_file=\"Decision tree classification.dot\", \n",
    "                class_names = iris.target_names, \n",
    "                feature_names = iris.feature_names, \n",
    "                impurity=True, filled=True)"
   ]
  },
  {
   "cell_type": "markdown",
   "metadata": {
    "id": "ntPNZZFJ4zaU"
   },
   "source": [
    "\n",
    "### graphviz 불러와서 시각화 \n",
    " - 'with open(file 이름) as 이름' : 이전에 저장한 file을 open 하고 이름 부여\n",
    " - 'open된 file이름.read()' : file을 읽고 DT_graph로 선언\n",
    " - 'graphviz.Source' 함수를 이용해 graphviz 출력"
   ]
  },
  {
   "cell_type": "code",
   "execution_count": 17,
   "metadata": {
    "colab": {
     "base_uri": "https://localhost:8080/",
     "height": 915
    },
    "executionInfo": {
     "elapsed": 916,
     "status": "ok",
     "timestamp": 1661213276629,
     "user": {
      "displayName": "김재경",
      "userId": "17640319238031841520"
     },
     "user_tz": -540
    },
    "id": "GuOuWFRozGCV",
    "outputId": "90b75fd4-d2a1-4874-e0c5-d5a845a35d05"
   },
   "outputs": [
    {
     "data": {
      "image/svg+xml": [
       "<?xml version=\"1.0\" encoding=\"UTF-8\" standalone=\"no\"?>\n",
       "<!DOCTYPE svg PUBLIC \"-//W3C//DTD SVG 1.1//EN\"\n",
       " \"http://www.w3.org/Graphics/SVG/1.1/DTD/svg11.dtd\">\n",
       "<!-- Generated by graphviz version 6.0.1 (20220911.1526)\n",
       " -->\n",
       "<!-- Title: Tree Pages: 1 -->\n",
       "<svg width=\"811pt\" height=\"671pt\"\n",
       " viewBox=\"0.00 0.00 811.00 671.00\" xmlns=\"http://www.w3.org/2000/svg\" xmlns:xlink=\"http://www.w3.org/1999/xlink\">\n",
       "<g id=\"graph0\" class=\"graph\" transform=\"scale(1 1) rotate(0) translate(4 667)\">\n",
       "<title>Tree</title>\n",
       "<polygon fill=\"white\" stroke=\"none\" points=\"-4,4 -4,-667 807,-667 807,4 -4,4\"/>\n",
       "<!-- 0 -->\n",
       "<g id=\"node1\" class=\"node\">\n",
       "<title>0</title>\n",
       "<polygon fill=\"#fffdfd\" stroke=\"black\" points=\"296.5,-663 122.5,-663 122.5,-580 296.5,-580 296.5,-663\"/>\n",
       "<text text-anchor=\"middle\" x=\"209.5\" y=\"-647.8\" font-family=\"Helvetica,sans-Serif\" font-size=\"14.00\">petal length (cm) &lt;= 2.45</text>\n",
       "<text text-anchor=\"middle\" x=\"209.5\" y=\"-632.8\" font-family=\"Helvetica,sans-Serif\" font-size=\"14.00\">gini = 0.667</text>\n",
       "<text text-anchor=\"middle\" x=\"209.5\" y=\"-617.8\" font-family=\"Helvetica,sans-Serif\" font-size=\"14.00\">samples = 120</text>\n",
       "<text text-anchor=\"middle\" x=\"209.5\" y=\"-602.8\" font-family=\"Helvetica,sans-Serif\" font-size=\"14.00\">value = [41, 40, 39]</text>\n",
       "<text text-anchor=\"middle\" x=\"209.5\" y=\"-587.8\" font-family=\"Helvetica,sans-Serif\" font-size=\"14.00\">class = setosa</text>\n",
       "</g>\n",
       "<!-- 1 -->\n",
       "<g id=\"node2\" class=\"node\">\n",
       "<title>1</title>\n",
       "<polygon fill=\"#e58139\" stroke=\"black\" points=\"189,-536.5 68,-536.5 68,-468.5 189,-468.5 189,-536.5\"/>\n",
       "<text text-anchor=\"middle\" x=\"128.5\" y=\"-521.3\" font-family=\"Helvetica,sans-Serif\" font-size=\"14.00\">gini = 0.0</text>\n",
       "<text text-anchor=\"middle\" x=\"128.5\" y=\"-506.3\" font-family=\"Helvetica,sans-Serif\" font-size=\"14.00\">samples = 41</text>\n",
       "<text text-anchor=\"middle\" x=\"128.5\" y=\"-491.3\" font-family=\"Helvetica,sans-Serif\" font-size=\"14.00\">value = [41, 0, 0]</text>\n",
       "<text text-anchor=\"middle\" x=\"128.5\" y=\"-476.3\" font-family=\"Helvetica,sans-Serif\" font-size=\"14.00\">class = setosa</text>\n",
       "</g>\n",
       "<!-- 0&#45;&gt;1 -->\n",
       "<g id=\"edge1\" class=\"edge\">\n",
       "<title>0&#45;&gt;1</title>\n",
       "<path fill=\"none\" stroke=\"black\" d=\"M181.4,-579.91C173.61,-568.65 165.14,-556.42 157.3,-545.11\"/>\n",
       "<polygon fill=\"black\" stroke=\"black\" points=\"160.03,-542.9 151.46,-536.67 154.28,-546.88 160.03,-542.9\"/>\n",
       "<text text-anchor=\"middle\" x=\"146.99\" y=\"-557.56\" font-family=\"Helvetica,sans-Serif\" font-size=\"14.00\">True</text>\n",
       "</g>\n",
       "<!-- 2 -->\n",
       "<g id=\"node3\" class=\"node\">\n",
       "<title>2</title>\n",
       "<polygon fill=\"#fafefc\" stroke=\"black\" points=\"375.5,-544 207.5,-544 207.5,-461 375.5,-461 375.5,-544\"/>\n",
       "<text text-anchor=\"middle\" x=\"291.5\" y=\"-528.8\" font-family=\"Helvetica,sans-Serif\" font-size=\"14.00\">petal width (cm) &lt;= 1.55</text>\n",
       "<text text-anchor=\"middle\" x=\"291.5\" y=\"-513.8\" font-family=\"Helvetica,sans-Serif\" font-size=\"14.00\">gini = 0.5</text>\n",
       "<text text-anchor=\"middle\" x=\"291.5\" y=\"-498.8\" font-family=\"Helvetica,sans-Serif\" font-size=\"14.00\">samples = 79</text>\n",
       "<text text-anchor=\"middle\" x=\"291.5\" y=\"-483.8\" font-family=\"Helvetica,sans-Serif\" font-size=\"14.00\">value = [0, 40, 39]</text>\n",
       "<text text-anchor=\"middle\" x=\"291.5\" y=\"-468.8\" font-family=\"Helvetica,sans-Serif\" font-size=\"14.00\">class = versicolor</text>\n",
       "</g>\n",
       "<!-- 0&#45;&gt;2 -->\n",
       "<g id=\"edge2\" class=\"edge\">\n",
       "<title>0&#45;&gt;2</title>\n",
       "<path fill=\"none\" stroke=\"black\" d=\"M237.95,-579.91C244.18,-571.01 250.84,-561.51 257.28,-552.33\"/>\n",
       "<polygon fill=\"black\" stroke=\"black\" points=\"260.23,-554.22 263.1,-544.02 254.5,-550.2 260.23,-554.22\"/>\n",
       "<text text-anchor=\"middle\" x=\"267.43\" y=\"-564.94\" font-family=\"Helvetica,sans-Serif\" font-size=\"14.00\">False</text>\n",
       "</g>\n",
       "<!-- 3 -->\n",
       "<g id=\"node4\" class=\"node\">\n",
       "<title>3</title>\n",
       "<polygon fill=\"#3ee684\" stroke=\"black\" points=\"284.5,-425 110.5,-425 110.5,-342 284.5,-342 284.5,-425\"/>\n",
       "<text text-anchor=\"middle\" x=\"197.5\" y=\"-409.8\" font-family=\"Helvetica,sans-Serif\" font-size=\"14.00\">petal length (cm) &lt;= 5.25</text>\n",
       "<text text-anchor=\"middle\" x=\"197.5\" y=\"-394.8\" font-family=\"Helvetica,sans-Serif\" font-size=\"14.00\">gini = 0.051</text>\n",
       "<text text-anchor=\"middle\" x=\"197.5\" y=\"-379.8\" font-family=\"Helvetica,sans-Serif\" font-size=\"14.00\">samples = 38</text>\n",
       "<text text-anchor=\"middle\" x=\"197.5\" y=\"-364.8\" font-family=\"Helvetica,sans-Serif\" font-size=\"14.00\">value = [0, 37, 1]</text>\n",
       "<text text-anchor=\"middle\" x=\"197.5\" y=\"-349.8\" font-family=\"Helvetica,sans-Serif\" font-size=\"14.00\">class = versicolor</text>\n",
       "</g>\n",
       "<!-- 2&#45;&gt;3 -->\n",
       "<g id=\"edge3\" class=\"edge\">\n",
       "<title>2&#45;&gt;3</title>\n",
       "<path fill=\"none\" stroke=\"black\" d=\"M258.89,-460.91C251.67,-451.92 243.95,-442.32 236.51,-433.05\"/>\n",
       "<polygon fill=\"black\" stroke=\"black\" points=\"239.05,-430.62 230.06,-425.02 233.59,-435.01 239.05,-430.62\"/>\n",
       "</g>\n",
       "<!-- 6 -->\n",
       "<g id=\"node7\" class=\"node\">\n",
       "<title>6</title>\n",
       "<polygon fill=\"#8b49e7\" stroke=\"black\" points=\"470.5,-425 302.5,-425 302.5,-342 470.5,-342 470.5,-425\"/>\n",
       "<text text-anchor=\"middle\" x=\"386.5\" y=\"-409.8\" font-family=\"Helvetica,sans-Serif\" font-size=\"14.00\">petal width (cm) &lt;= 1.75</text>\n",
       "<text text-anchor=\"middle\" x=\"386.5\" y=\"-394.8\" font-family=\"Helvetica,sans-Serif\" font-size=\"14.00\">gini = 0.136</text>\n",
       "<text text-anchor=\"middle\" x=\"386.5\" y=\"-379.8\" font-family=\"Helvetica,sans-Serif\" font-size=\"14.00\">samples = 41</text>\n",
       "<text text-anchor=\"middle\" x=\"386.5\" y=\"-364.8\" font-family=\"Helvetica,sans-Serif\" font-size=\"14.00\">value = [0, 3, 38]</text>\n",
       "<text text-anchor=\"middle\" x=\"386.5\" y=\"-349.8\" font-family=\"Helvetica,sans-Serif\" font-size=\"14.00\">class = virginica</text>\n",
       "</g>\n",
       "<!-- 2&#45;&gt;6 -->\n",
       "<g id=\"edge6\" class=\"edge\">\n",
       "<title>2&#45;&gt;6</title>\n",
       "<path fill=\"none\" stroke=\"black\" d=\"M324.46,-460.91C331.75,-451.92 339.56,-442.32 347.08,-433.05\"/>\n",
       "<polygon fill=\"black\" stroke=\"black\" points=\"350.01,-434.99 353.6,-425.02 344.58,-430.58 350.01,-434.99\"/>\n",
       "</g>\n",
       "<!-- 4 -->\n",
       "<g id=\"node5\" class=\"node\">\n",
       "<title>4</title>\n",
       "<polygon fill=\"#39e581\" stroke=\"black\" points=\"127,-298.5 0,-298.5 0,-230.5 127,-230.5 127,-298.5\"/>\n",
       "<text text-anchor=\"middle\" x=\"63.5\" y=\"-283.3\" font-family=\"Helvetica,sans-Serif\" font-size=\"14.00\">gini = 0.0</text>\n",
       "<text text-anchor=\"middle\" x=\"63.5\" y=\"-268.3\" font-family=\"Helvetica,sans-Serif\" font-size=\"14.00\">samples = 37</text>\n",
       "<text text-anchor=\"middle\" x=\"63.5\" y=\"-253.3\" font-family=\"Helvetica,sans-Serif\" font-size=\"14.00\">value = [0, 37, 0]</text>\n",
       "<text text-anchor=\"middle\" x=\"63.5\" y=\"-238.3\" font-family=\"Helvetica,sans-Serif\" font-size=\"14.00\">class = versicolor</text>\n",
       "</g>\n",
       "<!-- 3&#45;&gt;4 -->\n",
       "<g id=\"edge4\" class=\"edge\">\n",
       "<title>3&#45;&gt;4</title>\n",
       "<path fill=\"none\" stroke=\"black\" d=\"M151.01,-341.91C137.49,-330.1 122.73,-317.22 109.25,-305.45\"/>\n",
       "<polygon fill=\"black\" stroke=\"black\" points=\"111.32,-302.61 101.49,-298.67 106.72,-307.88 111.32,-302.61\"/>\n",
       "</g>\n",
       "<!-- 5 -->\n",
       "<g id=\"node6\" class=\"node\">\n",
       "<title>5</title>\n",
       "<polygon fill=\"#8139e5\" stroke=\"black\" points=\"261.5,-298.5 145.5,-298.5 145.5,-230.5 261.5,-230.5 261.5,-298.5\"/>\n",
       "<text text-anchor=\"middle\" x=\"203.5\" y=\"-283.3\" font-family=\"Helvetica,sans-Serif\" font-size=\"14.00\">gini = 0.0</text>\n",
       "<text text-anchor=\"middle\" x=\"203.5\" y=\"-268.3\" font-family=\"Helvetica,sans-Serif\" font-size=\"14.00\">samples = 1</text>\n",
       "<text text-anchor=\"middle\" x=\"203.5\" y=\"-253.3\" font-family=\"Helvetica,sans-Serif\" font-size=\"14.00\">value = [0, 0, 1]</text>\n",
       "<text text-anchor=\"middle\" x=\"203.5\" y=\"-238.3\" font-family=\"Helvetica,sans-Serif\" font-size=\"14.00\">class = virginica</text>\n",
       "</g>\n",
       "<!-- 3&#45;&gt;5 -->\n",
       "<g id=\"edge5\" class=\"edge\">\n",
       "<title>3&#45;&gt;5</title>\n",
       "<path fill=\"none\" stroke=\"black\" d=\"M199.58,-341.91C200.13,-331.2 200.72,-319.62 201.28,-308.78\"/>\n",
       "<polygon fill=\"black\" stroke=\"black\" points=\"204.78,-308.83 201.8,-298.67 197.79,-308.47 204.78,-308.83\"/>\n",
       "</g>\n",
       "<!-- 7 -->\n",
       "<g id=\"node8\" class=\"node\">\n",
       "<title>7</title>\n",
       "<polygon fill=\"#ffffff\" stroke=\"black\" points=\"469.5,-306 291.5,-306 291.5,-223 469.5,-223 469.5,-306\"/>\n",
       "<text text-anchor=\"middle\" x=\"380.5\" y=\"-290.8\" font-family=\"Helvetica,sans-Serif\" font-size=\"14.00\">sepal length (cm) &lt;= 5.45</text>\n",
       "<text text-anchor=\"middle\" x=\"380.5\" y=\"-275.8\" font-family=\"Helvetica,sans-Serif\" font-size=\"14.00\">gini = 0.5</text>\n",
       "<text text-anchor=\"middle\" x=\"380.5\" y=\"-260.8\" font-family=\"Helvetica,sans-Serif\" font-size=\"14.00\">samples = 4</text>\n",
       "<text text-anchor=\"middle\" x=\"380.5\" y=\"-245.8\" font-family=\"Helvetica,sans-Serif\" font-size=\"14.00\">value = [0, 2, 2]</text>\n",
       "<text text-anchor=\"middle\" x=\"380.5\" y=\"-230.8\" font-family=\"Helvetica,sans-Serif\" font-size=\"14.00\">class = versicolor</text>\n",
       "</g>\n",
       "<!-- 6&#45;&gt;7 -->\n",
       "<g id=\"edge7\" class=\"edge\">\n",
       "<title>6&#45;&gt;7</title>\n",
       "<path fill=\"none\" stroke=\"black\" d=\"M384.42,-341.91C383.99,-333.56 383.53,-324.67 383.09,-316.02\"/>\n",
       "<polygon fill=\"black\" stroke=\"black\" points=\"386.59,-315.83 382.58,-306.02 379.59,-316.19 386.59,-315.83\"/>\n",
       "</g>\n",
       "<!-- 12 -->\n",
       "<g id=\"node13\" class=\"node\">\n",
       "<title>12</title>\n",
       "<polygon fill=\"#843ee6\" stroke=\"black\" points=\"661.5,-306 487.5,-306 487.5,-223 661.5,-223 661.5,-306\"/>\n",
       "<text text-anchor=\"middle\" x=\"574.5\" y=\"-290.8\" font-family=\"Helvetica,sans-Serif\" font-size=\"14.00\">petal length (cm) &lt;= 4.85</text>\n",
       "<text text-anchor=\"middle\" x=\"574.5\" y=\"-275.8\" font-family=\"Helvetica,sans-Serif\" font-size=\"14.00\">gini = 0.053</text>\n",
       "<text text-anchor=\"middle\" x=\"574.5\" y=\"-260.8\" font-family=\"Helvetica,sans-Serif\" font-size=\"14.00\">samples = 37</text>\n",
       "<text text-anchor=\"middle\" x=\"574.5\" y=\"-245.8\" font-family=\"Helvetica,sans-Serif\" font-size=\"14.00\">value = [0, 1, 36]</text>\n",
       "<text text-anchor=\"middle\" x=\"574.5\" y=\"-230.8\" font-family=\"Helvetica,sans-Serif\" font-size=\"14.00\">class = virginica</text>\n",
       "</g>\n",
       "<!-- 6&#45;&gt;12 -->\n",
       "<g id=\"edge12\" class=\"edge\">\n",
       "<title>6&#45;&gt;12</title>\n",
       "<path fill=\"none\" stroke=\"black\" d=\"M451.73,-341.91C467.47,-332.11 484.42,-321.56 500.53,-311.53\"/>\n",
       "<polygon fill=\"black\" stroke=\"black\" points=\"502.75,-314.28 509.39,-306.02 499.05,-308.33 502.75,-314.28\"/>\n",
       "</g>\n",
       "<!-- 8 -->\n",
       "<g id=\"node9\" class=\"node\">\n",
       "<title>8</title>\n",
       "<polygon fill=\"#8139e5\" stroke=\"black\" points=\"275.5,-179.5 159.5,-179.5 159.5,-111.5 275.5,-111.5 275.5,-179.5\"/>\n",
       "<text text-anchor=\"middle\" x=\"217.5\" y=\"-164.3\" font-family=\"Helvetica,sans-Serif\" font-size=\"14.00\">gini = 0.0</text>\n",
       "<text text-anchor=\"middle\" x=\"217.5\" y=\"-149.3\" font-family=\"Helvetica,sans-Serif\" font-size=\"14.00\">samples = 1</text>\n",
       "<text text-anchor=\"middle\" x=\"217.5\" y=\"-134.3\" font-family=\"Helvetica,sans-Serif\" font-size=\"14.00\">value = [0, 0, 1]</text>\n",
       "<text text-anchor=\"middle\" x=\"217.5\" y=\"-119.3\" font-family=\"Helvetica,sans-Serif\" font-size=\"14.00\">class = virginica</text>\n",
       "</g>\n",
       "<!-- 7&#45;&gt;8 -->\n",
       "<g id=\"edge8\" class=\"edge\">\n",
       "<title>7&#45;&gt;8</title>\n",
       "<path fill=\"none\" stroke=\"black\" d=\"M323.95,-222.91C307.19,-210.88 288.88,-197.73 272.24,-185.79\"/>\n",
       "<polygon fill=\"black\" stroke=\"black\" points=\"273.87,-182.65 263.71,-179.67 269.79,-188.34 273.87,-182.65\"/>\n",
       "</g>\n",
       "<!-- 9 -->\n",
       "<g id=\"node10\" class=\"node\">\n",
       "<title>9</title>\n",
       "<polygon fill=\"#9cf2c0\" stroke=\"black\" points=\"467.5,-187 293.5,-187 293.5,-104 467.5,-104 467.5,-187\"/>\n",
       "<text text-anchor=\"middle\" x=\"380.5\" y=\"-171.8\" font-family=\"Helvetica,sans-Serif\" font-size=\"14.00\">petal length (cm) &lt;= 5.45</text>\n",
       "<text text-anchor=\"middle\" x=\"380.5\" y=\"-156.8\" font-family=\"Helvetica,sans-Serif\" font-size=\"14.00\">gini = 0.444</text>\n",
       "<text text-anchor=\"middle\" x=\"380.5\" y=\"-141.8\" font-family=\"Helvetica,sans-Serif\" font-size=\"14.00\">samples = 3</text>\n",
       "<text text-anchor=\"middle\" x=\"380.5\" y=\"-126.8\" font-family=\"Helvetica,sans-Serif\" font-size=\"14.00\">value = [0, 2, 1]</text>\n",
       "<text text-anchor=\"middle\" x=\"380.5\" y=\"-111.8\" font-family=\"Helvetica,sans-Serif\" font-size=\"14.00\">class = versicolor</text>\n",
       "</g>\n",
       "<!-- 7&#45;&gt;9 -->\n",
       "<g id=\"edge9\" class=\"edge\">\n",
       "<title>7&#45;&gt;9</title>\n",
       "<path fill=\"none\" stroke=\"black\" d=\"M380.5,-222.91C380.5,-214.65 380.5,-205.86 380.5,-197.3\"/>\n",
       "<polygon fill=\"black\" stroke=\"black\" points=\"384,-197.02 380.5,-187.02 377,-197.02 384,-197.02\"/>\n",
       "</g>\n",
       "<!-- 10 -->\n",
       "<g id=\"node11\" class=\"node\">\n",
       "<title>10</title>\n",
       "<polygon fill=\"#39e581\" stroke=\"black\" points=\"317,-68 190,-68 190,0 317,0 317,-68\"/>\n",
       "<text text-anchor=\"middle\" x=\"253.5\" y=\"-52.8\" font-family=\"Helvetica,sans-Serif\" font-size=\"14.00\">gini = 0.0</text>\n",
       "<text text-anchor=\"middle\" x=\"253.5\" y=\"-37.8\" font-family=\"Helvetica,sans-Serif\" font-size=\"14.00\">samples = 2</text>\n",
       "<text text-anchor=\"middle\" x=\"253.5\" y=\"-22.8\" font-family=\"Helvetica,sans-Serif\" font-size=\"14.00\">value = [0, 2, 0]</text>\n",
       "<text text-anchor=\"middle\" x=\"253.5\" y=\"-7.8\" font-family=\"Helvetica,sans-Serif\" font-size=\"14.00\">class = versicolor</text>\n",
       "</g>\n",
       "<!-- 9&#45;&gt;10 -->\n",
       "<g id=\"edge10\" class=\"edge\">\n",
       "<title>9&#45;&gt;10</title>\n",
       "<path fill=\"none\" stroke=\"black\" d=\"M333.21,-103.73C322.31,-94.33 310.74,-84.35 299.88,-74.99\"/>\n",
       "<polygon fill=\"black\" stroke=\"black\" points=\"301.98,-72.18 292.12,-68.3 297.41,-77.48 301.98,-72.18\"/>\n",
       "</g>\n",
       "<!-- 11 -->\n",
       "<g id=\"node12\" class=\"node\">\n",
       "<title>11</title>\n",
       "<polygon fill=\"#8139e5\" stroke=\"black\" points=\"451.5,-68 335.5,-68 335.5,0 451.5,0 451.5,-68\"/>\n",
       "<text text-anchor=\"middle\" x=\"393.5\" y=\"-52.8\" font-family=\"Helvetica,sans-Serif\" font-size=\"14.00\">gini = 0.0</text>\n",
       "<text text-anchor=\"middle\" x=\"393.5\" y=\"-37.8\" font-family=\"Helvetica,sans-Serif\" font-size=\"14.00\">samples = 1</text>\n",
       "<text text-anchor=\"middle\" x=\"393.5\" y=\"-22.8\" font-family=\"Helvetica,sans-Serif\" font-size=\"14.00\">value = [0, 0, 1]</text>\n",
       "<text text-anchor=\"middle\" x=\"393.5\" y=\"-7.8\" font-family=\"Helvetica,sans-Serif\" font-size=\"14.00\">class = virginica</text>\n",
       "</g>\n",
       "<!-- 9&#45;&gt;11 -->\n",
       "<g id=\"edge11\" class=\"edge\">\n",
       "<title>9&#45;&gt;11</title>\n",
       "<path fill=\"none\" stroke=\"black\" d=\"M385.34,-103.73C386.33,-95.43 387.37,-86.67 388.36,-78.28\"/>\n",
       "<polygon fill=\"black\" stroke=\"black\" points=\"391.84,-78.64 389.55,-68.3 384.89,-77.82 391.84,-78.64\"/>\n",
       "</g>\n",
       "<!-- 13 -->\n",
       "<g id=\"node14\" class=\"node\">\n",
       "<title>13</title>\n",
       "<polygon fill=\"#c09cf2\" stroke=\"black\" points=\"663.5,-187 485.5,-187 485.5,-104 663.5,-104 663.5,-187\"/>\n",
       "<text text-anchor=\"middle\" x=\"574.5\" y=\"-171.8\" font-family=\"Helvetica,sans-Serif\" font-size=\"14.00\">sepal length (cm) &lt;= 5.95</text>\n",
       "<text text-anchor=\"middle\" x=\"574.5\" y=\"-156.8\" font-family=\"Helvetica,sans-Serif\" font-size=\"14.00\">gini = 0.444</text>\n",
       "<text text-anchor=\"middle\" x=\"574.5\" y=\"-141.8\" font-family=\"Helvetica,sans-Serif\" font-size=\"14.00\">samples = 3</text>\n",
       "<text text-anchor=\"middle\" x=\"574.5\" y=\"-126.8\" font-family=\"Helvetica,sans-Serif\" font-size=\"14.00\">value = [0, 1, 2]</text>\n",
       "<text text-anchor=\"middle\" x=\"574.5\" y=\"-111.8\" font-family=\"Helvetica,sans-Serif\" font-size=\"14.00\">class = virginica</text>\n",
       "</g>\n",
       "<!-- 12&#45;&gt;13 -->\n",
       "<g id=\"edge13\" class=\"edge\">\n",
       "<title>12&#45;&gt;13</title>\n",
       "<path fill=\"none\" stroke=\"black\" d=\"M574.5,-222.91C574.5,-214.65 574.5,-205.86 574.5,-197.3\"/>\n",
       "<polygon fill=\"black\" stroke=\"black\" points=\"578,-197.02 574.5,-187.02 571,-197.02 578,-197.02\"/>\n",
       "</g>\n",
       "<!-- 16 -->\n",
       "<g id=\"node17\" class=\"node\">\n",
       "<title>16</title>\n",
       "<polygon fill=\"#8139e5\" stroke=\"black\" points=\"803,-179.5 682,-179.5 682,-111.5 803,-111.5 803,-179.5\"/>\n",
       "<text text-anchor=\"middle\" x=\"742.5\" y=\"-164.3\" font-family=\"Helvetica,sans-Serif\" font-size=\"14.00\">gini = 0.0</text>\n",
       "<text text-anchor=\"middle\" x=\"742.5\" y=\"-149.3\" font-family=\"Helvetica,sans-Serif\" font-size=\"14.00\">samples = 34</text>\n",
       "<text text-anchor=\"middle\" x=\"742.5\" y=\"-134.3\" font-family=\"Helvetica,sans-Serif\" font-size=\"14.00\">value = [0, 0, 34]</text>\n",
       "<text text-anchor=\"middle\" x=\"742.5\" y=\"-119.3\" font-family=\"Helvetica,sans-Serif\" font-size=\"14.00\">class = virginica</text>\n",
       "</g>\n",
       "<!-- 12&#45;&gt;16 -->\n",
       "<g id=\"edge16\" class=\"edge\">\n",
       "<title>12&#45;&gt;16</title>\n",
       "<path fill=\"none\" stroke=\"black\" d=\"M632.79,-222.91C650.22,-210.77 669.28,-197.49 686.55,-185.46\"/>\n",
       "<polygon fill=\"black\" stroke=\"black\" points=\"688.67,-188.25 694.88,-179.67 684.67,-182.51 688.67,-188.25\"/>\n",
       "</g>\n",
       "<!-- 14 -->\n",
       "<g id=\"node15\" class=\"node\">\n",
       "<title>14</title>\n",
       "<polygon fill=\"#39e581\" stroke=\"black\" points=\"624,-68 497,-68 497,0 624,0 624,-68\"/>\n",
       "<text text-anchor=\"middle\" x=\"560.5\" y=\"-52.8\" font-family=\"Helvetica,sans-Serif\" font-size=\"14.00\">gini = 0.0</text>\n",
       "<text text-anchor=\"middle\" x=\"560.5\" y=\"-37.8\" font-family=\"Helvetica,sans-Serif\" font-size=\"14.00\">samples = 1</text>\n",
       "<text text-anchor=\"middle\" x=\"560.5\" y=\"-22.8\" font-family=\"Helvetica,sans-Serif\" font-size=\"14.00\">value = [0, 1, 0]</text>\n",
       "<text text-anchor=\"middle\" x=\"560.5\" y=\"-7.8\" font-family=\"Helvetica,sans-Serif\" font-size=\"14.00\">class = versicolor</text>\n",
       "</g>\n",
       "<!-- 13&#45;&gt;14 -->\n",
       "<g id=\"edge14\" class=\"edge\">\n",
       "<title>13&#45;&gt;14</title>\n",
       "<path fill=\"none\" stroke=\"black\" d=\"M569.29,-103.73C568.23,-95.43 567.11,-86.67 566.03,-78.28\"/>\n",
       "<polygon fill=\"black\" stroke=\"black\" points=\"569.5,-77.77 564.76,-68.3 562.55,-78.66 569.5,-77.77\"/>\n",
       "</g>\n",
       "<!-- 15 -->\n",
       "<g id=\"node16\" class=\"node\">\n",
       "<title>15</title>\n",
       "<polygon fill=\"#8139e5\" stroke=\"black\" points=\"758.5,-68 642.5,-68 642.5,0 758.5,0 758.5,-68\"/>\n",
       "<text text-anchor=\"middle\" x=\"700.5\" y=\"-52.8\" font-family=\"Helvetica,sans-Serif\" font-size=\"14.00\">gini = 0.0</text>\n",
       "<text text-anchor=\"middle\" x=\"700.5\" y=\"-37.8\" font-family=\"Helvetica,sans-Serif\" font-size=\"14.00\">samples = 2</text>\n",
       "<text text-anchor=\"middle\" x=\"700.5\" y=\"-22.8\" font-family=\"Helvetica,sans-Serif\" font-size=\"14.00\">value = [0, 0, 2]</text>\n",
       "<text text-anchor=\"middle\" x=\"700.5\" y=\"-7.8\" font-family=\"Helvetica,sans-Serif\" font-size=\"14.00\">class = virginica</text>\n",
       "</g>\n",
       "<!-- 13&#45;&gt;15 -->\n",
       "<g id=\"edge15\" class=\"edge\">\n",
       "<title>13&#45;&gt;15</title>\n",
       "<path fill=\"none\" stroke=\"black\" d=\"M621.42,-103.73C632.23,-94.33 643.71,-84.35 654.49,-74.99\"/>\n",
       "<polygon fill=\"black\" stroke=\"black\" points=\"656.93,-77.5 662.18,-68.3 652.34,-72.22 656.93,-77.5\"/>\n",
       "</g>\n",
       "</g>\n",
       "</svg>\n"
      ],
      "text/plain": [
       "<graphviz.sources.Source at 0x1ccb5b9eda0>"
      ]
     },
     "execution_count": 17,
     "metadata": {},
     "output_type": "execute_result"
    }
   ],
   "source": [
    "import graphviz\n",
    "\n",
    "with open(\"Decision tree classification.dot\") as visual:\n",
    "  DT_graph = visual.read()\n",
    "graphviz.Source(DT_graph)"
   ]
  },
  {
   "cell_type": "markdown",
   "metadata": {
    "id": "lxTJoQ155g_q"
   },
   "source": [
    "### model 평가\n",
    " - train, test data 두가지의 accuracy를 확인 할 수 있음\n",
    " - 평가용 test data를 이용해 'model이름.predict()' 에 적용하면, 예측된 결과가 Test_DT_pred로 선언\n",
    " - 학습용 train data를 이용해 'model이름.predict()' 에 적용하면, 예측된 결과가 Train_DT_pred로 선언\n",
    " - 'accuracy_score(실제값, 예측값)'을 이용해 실제 y_test값과 예측된 Test_DT_pred의 정확도를 평가하고 AC_test에 저장\n",
    " - 'accuracy_score(실제값, 예측값)'을 이용해 실제 y_train값과 예측된 Train_DT_pred로 정확도를 평가하고 AC_train에 저장\n",
    " - 'print('...\".format(accuracy score 이름))' : print함수를 이용해 출력"
   ]
  },
  {
   "cell_type": "code",
   "execution_count": 6,
   "metadata": {
    "colab": {
     "base_uri": "https://localhost:8080/"
    },
    "executionInfo": {
     "elapsed": 19,
     "status": "ok",
     "timestamp": 1661213276629,
     "user": {
      "displayName": "김재경",
      "userId": "17640319238031841520"
     },
     "user_tz": -540
    },
    "id": "5hqnjfd55b9S",
    "outputId": "d8645657-3bc3-40cf-a723-949b9704a58a"
   },
   "outputs": [
    {
     "name": "stdout",
     "output_type": "stream",
     "text": [
      "Test accuracy : 0.9333333333333333\n",
      "Train accuracy : 1.0\n"
     ]
    }
   ],
   "source": [
    "Test_DT_pred = DT_CLF.predict(X_test)\n",
    "Train_DT_pred = DT_CLF.predict(X_train)\n",
    "\n",
    "AC_test = accuracy_score(y_test, Test_DT_pred)\n",
    "AC_train = accuracy_score(y_train, Train_DT_pred)\n",
    "\n",
    "print(\"Test accuracy : {}\".format(AC_test))\n",
    "print(\"Train accuracy : {}\".format(AC_train))\n",
    "# Train data에 overfitting상태 (과적합)"
   ]
  },
  {
   "cell_type": "code",
   "execution_count": 21,
   "metadata": {
    "executionInfo": {
     "elapsed": 18,
     "status": "ok",
     "timestamp": 1661213276630,
     "user": {
      "displayName": "김재경",
      "userId": "17640319238031841520"
     },
     "user_tz": -540
    },
    "id": "MrKV5HEV5b62"
   },
   "outputs": [],
   "source": []
  },
  {
   "cell_type": "markdown",
   "metadata": {
    "id": "iOp-VAyX7mth"
   },
   "source": [
    "## Part4. K-Means clustering 실습\n",
    " - iris data를 이용해 clustering(unsupervised learning) "
   ]
  },
  {
   "cell_type": "markdown",
   "metadata": {
    "id": "lMtjojZ--md5"
   },
   "source": [
    "### KMeans cluster 기본 구조\n",
    " - kmeans(n_cluster = 8,*,init = 'k-means++',n_init = 10, max_iter = 300, tol = 0.0001, verbose = 0, random_state = None, copy_x = True, algorithm = 'auto'\n",
    " - 중요 Hyperparameter : n_cluster : cluster 갯수"
   ]
  },
  {
   "cell_type": "markdown",
   "metadata": {
    "id": "y0kXyeki7vCn"
   },
   "source": [
    "### 사용할 라이브러리 불러오기\n",
    " - Data input과 시각화를 위해서 matplotlib.pyplot, numpy, seaborn library를 불러오기\n",
    " - Sklearn에서 제공하는 iris(붓꽃) dataset을 이용하기 위해 sklearn의 datasets 불러오기\n",
    " - Sklearn에서 제공하는 cluster model 중 'KMeans' 불러오기\n",
    "  - Iris dataset : 3가지 종류의 Iris(setosa, versicolor, virginica)의 feature (Sepal length(꽃받침의 길이), sepal width(꽃받침의 넓이), petal length(꽃잎의 길이), petal width(꽃잎의 넓이)를 포함"
   ]
  },
  {
   "cell_type": "code",
   "execution_count": 7,
   "metadata": {
    "executionInfo": {
     "elapsed": 18,
     "status": "ok",
     "timestamp": 1661213276630,
     "user": {
      "displayName": "김재경",
      "userId": "17640319238031841520"
     },
     "user_tz": -540
    },
    "id": "p7sjEvil6PTu"
   },
   "outputs": [],
   "source": [
    "import numpy as np\n",
    "import matplotlib.pyplot as plt\n",
    "from sklearn import datasets\n",
    "from sklearn.cluster import KMeans\n",
    "from sklearn.metrics import accuracy_score"
   ]
  },
  {
   "cell_type": "markdown",
   "metadata": {
    "id": "gfqTyya28cpi"
   },
   "source": [
    "### 사용할 Dataset 설정"
   ]
  },
  {
   "cell_type": "code",
   "execution_count": 8,
   "metadata": {
    "executionInfo": {
     "elapsed": 17,
     "status": "ok",
     "timestamp": 1661213276630,
     "user": {
      "displayName": "김재경",
      "userId": "17640319238031841520"
     },
     "user_tz": -540
    },
    "id": "79SgoVYk6dFN"
   },
   "outputs": [],
   "source": [
    "Iris = datasets.load_iris()\n",
    "DATA = Iris.data"
   ]
  },
  {
   "cell_type": "markdown",
   "metadata": {
    "id": "LpGGGJff9ChF"
   },
   "source": [
    "### Iris data 살펴보기"
   ]
  },
  {
   "cell_type": "code",
   "execution_count": 9,
   "metadata": {
    "colab": {
     "base_uri": "https://localhost:8080/"
    },
    "executionInfo": {
     "elapsed": 17,
     "status": "ok",
     "timestamp": 1661213276630,
     "user": {
      "displayName": "김재경",
      "userId": "17640319238031841520"
     },
     "user_tz": -540
    },
    "id": "I_ax2usW9F1v",
    "outputId": "cf296401-b542-49be-d7c0-d2dd6aa7c97f"
   },
   "outputs": [
    {
     "data": {
      "text/plain": [
       "array([[5.1, 3.5, 1.4, 0.2],\n",
       "       [4.9, 3. , 1.4, 0.2],\n",
       "       [4.7, 3.2, 1.3, 0.2],\n",
       "       [4.6, 3.1, 1.5, 0.2],\n",
       "       [5. , 3.6, 1.4, 0.2],\n",
       "       [5.4, 3.9, 1.7, 0.4],\n",
       "       [4.6, 3.4, 1.4, 0.3],\n",
       "       [5. , 3.4, 1.5, 0.2],\n",
       "       [4.4, 2.9, 1.4, 0.2],\n",
       "       [4.9, 3.1, 1.5, 0.1],\n",
       "       [5.4, 3.7, 1.5, 0.2],\n",
       "       [4.8, 3.4, 1.6, 0.2],\n",
       "       [4.8, 3. , 1.4, 0.1],\n",
       "       [4.3, 3. , 1.1, 0.1],\n",
       "       [5.8, 4. , 1.2, 0.2],\n",
       "       [5.7, 4.4, 1.5, 0.4],\n",
       "       [5.4, 3.9, 1.3, 0.4],\n",
       "       [5.1, 3.5, 1.4, 0.3],\n",
       "       [5.7, 3.8, 1.7, 0.3],\n",
       "       [5.1, 3.8, 1.5, 0.3],\n",
       "       [5.4, 3.4, 1.7, 0.2],\n",
       "       [5.1, 3.7, 1.5, 0.4],\n",
       "       [4.6, 3.6, 1. , 0.2],\n",
       "       [5.1, 3.3, 1.7, 0.5],\n",
       "       [4.8, 3.4, 1.9, 0.2],\n",
       "       [5. , 3. , 1.6, 0.2],\n",
       "       [5. , 3.4, 1.6, 0.4],\n",
       "       [5.2, 3.5, 1.5, 0.2],\n",
       "       [5.2, 3.4, 1.4, 0.2],\n",
       "       [4.7, 3.2, 1.6, 0.2],\n",
       "       [4.8, 3.1, 1.6, 0.2],\n",
       "       [5.4, 3.4, 1.5, 0.4],\n",
       "       [5.2, 4.1, 1.5, 0.1],\n",
       "       [5.5, 4.2, 1.4, 0.2],\n",
       "       [4.9, 3.1, 1.5, 0.2],\n",
       "       [5. , 3.2, 1.2, 0.2],\n",
       "       [5.5, 3.5, 1.3, 0.2],\n",
       "       [4.9, 3.6, 1.4, 0.1],\n",
       "       [4.4, 3. , 1.3, 0.2],\n",
       "       [5.1, 3.4, 1.5, 0.2],\n",
       "       [5. , 3.5, 1.3, 0.3],\n",
       "       [4.5, 2.3, 1.3, 0.3],\n",
       "       [4.4, 3.2, 1.3, 0.2],\n",
       "       [5. , 3.5, 1.6, 0.6],\n",
       "       [5.1, 3.8, 1.9, 0.4],\n",
       "       [4.8, 3. , 1.4, 0.3],\n",
       "       [5.1, 3.8, 1.6, 0.2],\n",
       "       [4.6, 3.2, 1.4, 0.2],\n",
       "       [5.3, 3.7, 1.5, 0.2],\n",
       "       [5. , 3.3, 1.4, 0.2],\n",
       "       [7. , 3.2, 4.7, 1.4],\n",
       "       [6.4, 3.2, 4.5, 1.5],\n",
       "       [6.9, 3.1, 4.9, 1.5],\n",
       "       [5.5, 2.3, 4. , 1.3],\n",
       "       [6.5, 2.8, 4.6, 1.5],\n",
       "       [5.7, 2.8, 4.5, 1.3],\n",
       "       [6.3, 3.3, 4.7, 1.6],\n",
       "       [4.9, 2.4, 3.3, 1. ],\n",
       "       [6.6, 2.9, 4.6, 1.3],\n",
       "       [5.2, 2.7, 3.9, 1.4],\n",
       "       [5. , 2. , 3.5, 1. ],\n",
       "       [5.9, 3. , 4.2, 1.5],\n",
       "       [6. , 2.2, 4. , 1. ],\n",
       "       [6.1, 2.9, 4.7, 1.4],\n",
       "       [5.6, 2.9, 3.6, 1.3],\n",
       "       [6.7, 3.1, 4.4, 1.4],\n",
       "       [5.6, 3. , 4.5, 1.5],\n",
       "       [5.8, 2.7, 4.1, 1. ],\n",
       "       [6.2, 2.2, 4.5, 1.5],\n",
       "       [5.6, 2.5, 3.9, 1.1],\n",
       "       [5.9, 3.2, 4.8, 1.8],\n",
       "       [6.1, 2.8, 4. , 1.3],\n",
       "       [6.3, 2.5, 4.9, 1.5],\n",
       "       [6.1, 2.8, 4.7, 1.2],\n",
       "       [6.4, 2.9, 4.3, 1.3],\n",
       "       [6.6, 3. , 4.4, 1.4],\n",
       "       [6.8, 2.8, 4.8, 1.4],\n",
       "       [6.7, 3. , 5. , 1.7],\n",
       "       [6. , 2.9, 4.5, 1.5],\n",
       "       [5.7, 2.6, 3.5, 1. ],\n",
       "       [5.5, 2.4, 3.8, 1.1],\n",
       "       [5.5, 2.4, 3.7, 1. ],\n",
       "       [5.8, 2.7, 3.9, 1.2],\n",
       "       [6. , 2.7, 5.1, 1.6],\n",
       "       [5.4, 3. , 4.5, 1.5],\n",
       "       [6. , 3.4, 4.5, 1.6],\n",
       "       [6.7, 3.1, 4.7, 1.5],\n",
       "       [6.3, 2.3, 4.4, 1.3],\n",
       "       [5.6, 3. , 4.1, 1.3],\n",
       "       [5.5, 2.5, 4. , 1.3],\n",
       "       [5.5, 2.6, 4.4, 1.2],\n",
       "       [6.1, 3. , 4.6, 1.4],\n",
       "       [5.8, 2.6, 4. , 1.2],\n",
       "       [5. , 2.3, 3.3, 1. ],\n",
       "       [5.6, 2.7, 4.2, 1.3],\n",
       "       [5.7, 3. , 4.2, 1.2],\n",
       "       [5.7, 2.9, 4.2, 1.3],\n",
       "       [6.2, 2.9, 4.3, 1.3],\n",
       "       [5.1, 2.5, 3. , 1.1],\n",
       "       [5.7, 2.8, 4.1, 1.3],\n",
       "       [6.3, 3.3, 6. , 2.5],\n",
       "       [5.8, 2.7, 5.1, 1.9],\n",
       "       [7.1, 3. , 5.9, 2.1],\n",
       "       [6.3, 2.9, 5.6, 1.8],\n",
       "       [6.5, 3. , 5.8, 2.2],\n",
       "       [7.6, 3. , 6.6, 2.1],\n",
       "       [4.9, 2.5, 4.5, 1.7],\n",
       "       [7.3, 2.9, 6.3, 1.8],\n",
       "       [6.7, 2.5, 5.8, 1.8],\n",
       "       [7.2, 3.6, 6.1, 2.5],\n",
       "       [6.5, 3.2, 5.1, 2. ],\n",
       "       [6.4, 2.7, 5.3, 1.9],\n",
       "       [6.8, 3. , 5.5, 2.1],\n",
       "       [5.7, 2.5, 5. , 2. ],\n",
       "       [5.8, 2.8, 5.1, 2.4],\n",
       "       [6.4, 3.2, 5.3, 2.3],\n",
       "       [6.5, 3. , 5.5, 1.8],\n",
       "       [7.7, 3.8, 6.7, 2.2],\n",
       "       [7.7, 2.6, 6.9, 2.3],\n",
       "       [6. , 2.2, 5. , 1.5],\n",
       "       [6.9, 3.2, 5.7, 2.3],\n",
       "       [5.6, 2.8, 4.9, 2. ],\n",
       "       [7.7, 2.8, 6.7, 2. ],\n",
       "       [6.3, 2.7, 4.9, 1.8],\n",
       "       [6.7, 3.3, 5.7, 2.1],\n",
       "       [7.2, 3.2, 6. , 1.8],\n",
       "       [6.2, 2.8, 4.8, 1.8],\n",
       "       [6.1, 3. , 4.9, 1.8],\n",
       "       [6.4, 2.8, 5.6, 2.1],\n",
       "       [7.2, 3. , 5.8, 1.6],\n",
       "       [7.4, 2.8, 6.1, 1.9],\n",
       "       [7.9, 3.8, 6.4, 2. ],\n",
       "       [6.4, 2.8, 5.6, 2.2],\n",
       "       [6.3, 2.8, 5.1, 1.5],\n",
       "       [6.1, 2.6, 5.6, 1.4],\n",
       "       [7.7, 3. , 6.1, 2.3],\n",
       "       [6.3, 3.4, 5.6, 2.4],\n",
       "       [6.4, 3.1, 5.5, 1.8],\n",
       "       [6. , 3. , 4.8, 1.8],\n",
       "       [6.9, 3.1, 5.4, 2.1],\n",
       "       [6.7, 3.1, 5.6, 2.4],\n",
       "       [6.9, 3.1, 5.1, 2.3],\n",
       "       [5.8, 2.7, 5.1, 1.9],\n",
       "       [6.8, 3.2, 5.9, 2.3],\n",
       "       [6.7, 3.3, 5.7, 2.5],\n",
       "       [6.7, 3. , 5.2, 2.3],\n",
       "       [6.3, 2.5, 5. , 1.9],\n",
       "       [6.5, 3. , 5.2, 2. ],\n",
       "       [6.2, 3.4, 5.4, 2.3],\n",
       "       [5.9, 3. , 5.1, 1.8]])"
      ]
     },
     "execution_count": 9,
     "metadata": {},
     "output_type": "execute_result"
    }
   ],
   "source": [
    "# iris datast : iris 품종과 그에 따른 특징값으로 이루어짐\n",
    "# [a,b,c,d] 4가지 붗꽃의 특징값(feature)이 하나의 행을 이루고 있음\n",
    "# iris.data 명령어로 iris의 data를 확인해보면 배열의 형태로 저장되 있음\n",
    "x = iris.data\n",
    "x"
   ]
  },
  {
   "cell_type": "code",
   "execution_count": 10,
   "metadata": {
    "colab": {
     "base_uri": "https://localhost:8080/"
    },
    "executionInfo": {
     "elapsed": 16,
     "status": "ok",
     "timestamp": 1661213276631,
     "user": {
      "displayName": "김재경",
      "userId": "17640319238031841520"
     },
     "user_tz": -540
    },
    "id": "wbXaHATa9Fz9",
    "outputId": "6f637a2a-080d-4ad3-c4c1-5de4e4eb1bb7"
   },
   "outputs": [
    {
     "data": {
      "text/plain": [
       "['sepal length (cm)',\n",
       " 'sepal width (cm)',\n",
       " 'petal length (cm)',\n",
       " 'petal width (cm)']"
      ]
     },
     "execution_count": 10,
     "metadata": {},
     "output_type": "execute_result"
    }
   ],
   "source": [
    "# iris.feature_names 명령어로 feature의 이름을 확인 가능\n",
    "# Sepal length(꽃받침의 길이), sepal width(꽃받침의 넓이), petal length(꽃잎의 길이), petal width(꽃잎의 넓이) 로 이루어짐\n",
    "z = iris.feature_names\n",
    "z"
   ]
  },
  {
   "cell_type": "code",
   "execution_count": 11,
   "metadata": {
    "colab": {
     "base_uri": "https://localhost:8080/"
    },
    "executionInfo": {
     "elapsed": 13,
     "status": "ok",
     "timestamp": 1661213276631,
     "user": {
      "displayName": "김재경",
      "userId": "17640319238031841520"
     },
     "user_tz": -540
    },
    "id": "IQ6Kz_RU9FwH",
    "outputId": "d175f7ea-a33c-4c46-a269-46734b6ea936"
   },
   "outputs": [
    {
     "data": {
      "text/plain": [
       "array([0, 0, 0, 0, 0, 0, 0, 0, 0, 0, 0, 0, 0, 0, 0, 0, 0, 0, 0, 0, 0, 0,\n",
       "       0, 0, 0, 0, 0, 0, 0, 0, 0, 0, 0, 0, 0, 0, 0, 0, 0, 0, 0, 0, 0, 0,\n",
       "       0, 0, 0, 0, 0, 0, 1, 1, 1, 1, 1, 1, 1, 1, 1, 1, 1, 1, 1, 1, 1, 1,\n",
       "       1, 1, 1, 1, 1, 1, 1, 1, 1, 1, 1, 1, 1, 1, 1, 1, 1, 1, 1, 1, 1, 1,\n",
       "       1, 1, 1, 1, 1, 1, 1, 1, 1, 1, 1, 1, 2, 2, 2, 2, 2, 2, 2, 2, 2, 2,\n",
       "       2, 2, 2, 2, 2, 2, 2, 2, 2, 2, 2, 2, 2, 2, 2, 2, 2, 2, 2, 2, 2, 2,\n",
       "       2, 2, 2, 2, 2, 2, 2, 2, 2, 2, 2, 2, 2, 2, 2, 2, 2, 2])"
      ]
     },
     "execution_count": 11,
     "metadata": {},
     "output_type": "execute_result"
    }
   ],
   "source": [
    "# iris.target 명령어로 iris feature와 대응되는 품종(target) 확인 가능\n",
    "# target은 0,1,2로 3가지 종류로 이루어짐\n",
    "y = iris.target\n",
    "y"
   ]
  },
  {
   "cell_type": "code",
   "execution_count": 12,
   "metadata": {
    "colab": {
     "base_uri": "https://localhost:8080/"
    },
    "executionInfo": {
     "elapsed": 12,
     "status": "ok",
     "timestamp": 1661213276631,
     "user": {
      "displayName": "김재경",
      "userId": "17640319238031841520"
     },
     "user_tz": -540
    },
    "id": "BlMojrEe9Fui",
    "outputId": "47c3c25a-e567-4afc-e8b8-98f186a35b12"
   },
   "outputs": [
    {
     "data": {
      "text/plain": [
       "array(['setosa', 'versicolor', 'virginica'], dtype='<U10')"
      ]
     },
     "execution_count": 12,
     "metadata": {},
     "output_type": "execute_result"
    }
   ],
   "source": [
    "# iris.target_names 명령어로 target의 이름을 확인 가능\n",
    "# setosa, versiolor, virginica 로 구성\n",
    "a = iris.target_names\n",
    "a"
   ]
  },
  {
   "cell_type": "markdown",
   "metadata": {
    "id": "hanhH8RH_MQh"
   },
   "source": [
    "### K-Means cluster model 생성\n",
    " - Kmeans 라이브러리의 KMeans model을 사용해 cluster를 3개(붓꽃의 종류가 3개라는 것을 이미 알기 때문에 3개로 설정)로 나누는 km_cluster 이름의 model()을 만들고 '.fit(Data이름)'을 이용해 iris data 적용\n",
    " - 'model이름.labels_'를 사용해 분리된 cluster들에게 label을 부여하고 cluster_pred로 선언"
   ]
  },
  {
   "cell_type": "code",
   "execution_count": 13,
   "metadata": {
    "executionInfo": {
     "elapsed": 11,
     "status": "ok",
     "timestamp": 1661213276631,
     "user": {
      "displayName": "김재경",
      "userId": "17640319238031841520"
     },
     "user_tz": -540
    },
    "id": "QQv09ufGAxCY"
   },
   "outputs": [],
   "source": [
    "km_cluster = KMeans(n_clusters=3).fit(DATA)\n",
    "cluster_pred = km_cluster.labels_"
   ]
  },
  {
   "cell_type": "markdown",
   "metadata": {
    "id": "I9NmB8aWC2Gl"
   },
   "source": [
    "### Graph로 시각화 하기\n",
    " - iris data에는 다양한 data가 존재, 그 중 iris data의 0열을 X로, 1열을 Y로 지정\n",
    " - '.cluster_centers_'를 사용해 현재 지정된 cluster의 중심점을 cluster_center로 선언\n",
    " - 'plt.figsize(figsize=(x,y))' 로 plot의 size를 x,y로 지정\n",
    " - 'plt.title ('이름', fontsize=x)'로 plot의 이름,크기를 지정\n",
    " - 'plt.scatter(X,Y,c=z)' : X,Y에 대한 산점도를 그리고 color는 cluster_pred에 따라 다르게 지정\n",
    " - 'plt.plot()'에 cluster_cneter의 0열을 X, 1열을 Y로 지정하여 'rD' 다이아몬드 모양으로 지정하고, cluster center라는 label을 지정\n",
    " - 'plt.xlabel,plt.ylabel'을 통해 x,y축 이름과 크기 지정\n",
    " - 'plt.legend()' 를 통해서 legend 표시, 'plt.grid()를 통해서 grid표시"
   ]
  },
  {
   "cell_type": "code",
   "execution_count": 14,
   "metadata": {
    "colab": {
     "base_uri": "https://localhost:8080/",
     "height": 355
    },
    "executionInfo": {
     "elapsed": 11,
     "status": "ok",
     "timestamp": 1661213276631,
     "user": {
      "displayName": "김재경",
      "userId": "17640319238031841520"
     },
     "user_tz": -540
    },
    "id": "nyLR48s2B9rq",
    "outputId": "0d630ee5-2108-4dd2-e567-a7cdc4e20681"
   },
   "outputs": [
    {
     "data": {
      "image/png": "[encoded data removed]",
      "text/plain": [
       "<Figure size 504x360 with 1 Axes>"
      ]
     },
     "metadata": {
      "needs_background": "light"
     },
     "output_type": "display_data"
    }
   ],
   "source": [
    "X = DATA[:,0]\n",
    "Y = DATA[:,1]\n",
    "cluster_center = km_cluster.cluster_centers_\n",
    "plt.figure(figsize=(7,5))\n",
    "plt.title(\"IRIS clustering\", fontsize=15)\n",
    "plt.scatter(X, Y, c=cluster_pred)\n",
    "plt.plot(cluster_center[:,0], cluster_center[:,1], \"rD\", markersize=12, label='cluster center')\n",
    "plt.xlabel(\"sepal length\", fontsize=12)\n",
    "plt.ylabel(\"sepal width\", fontsize=12)\n",
    "plt.legend()\n",
    "plt.grid()\n",
    "plt.show()"
   ]
  },
  {
   "cell_type": "code",
   "execution_count": 29,
   "metadata": {
    "executionInfo": {
     "elapsed": 11,
     "status": "ok",
     "timestamp": 1661213276632,
     "user": {
      "displayName": "김재경",
      "userId": "17640319238031841520"
     },
     "user_tz": -540
    },
    "id": "S5ujtz3dB9qj"
   },
   "outputs": [],
   "source": []
  },
  {
   "cell_type": "markdown",
   "metadata": {
    "id": "G1ySckuYE-SJ"
   },
   "source": [
    "### Part5. Exercise - Wine데이터 classification하기\n"
   ]
  },
  {
   "cell_type": "markdown",
   "metadata": {
    "id": "OIXOvY5pFMmF"
   },
   "source": [
    "### Sklearn에서 제공하는 wine dataset에서 data와 target을 train,test data로 split하기\n",
    " - Data이름: wine, 설명: wine의 feature와 등급이 담긴 데이터\n",
    " - Wine feature data: alcohole, malic_acid, ahs, alkalinity_of_ahs 등 13개 특징. Wine target data= 0~2로 등급을 나눔\n",
    " - Data loading 방법: datasets.load_wine()\n",
    " - Parameter setting: test_size = 0.3, random_state = 10\n",
    " \n",
    " "
   ]
  },
  {
   "cell_type": "code",
   "execution_count": 29,
   "metadata": {
    "executionInfo": {
     "elapsed": 11,
     "status": "ok",
     "timestamp": 1661213276632,
     "user": {
      "displayName": "김재경",
      "userId": "17640319238031841520"
     },
     "user_tz": -540
    },
    "id": "XU7sHQv0FSiH"
   },
   "outputs": [],
   "source": []
  },
  {
   "cell_type": "markdown",
   "metadata": {
    "id": "HiUUnLTTF3Q_"
   },
   "source": [
    "### Train data를 이용해 decision tree, KNN 두 가지 classification 진행\n",
    " - Decision tree parameter setting: random_state = 10\n",
    " - KNN parameter setting: n_neighbors = 10, weights = distance"
   ]
  },
  {
   "cell_type": "code",
   "execution_count": 29,
   "metadata": {
    "executionInfo": {
     "elapsed": 11,
     "status": "ok",
     "timestamp": 1661213276632,
     "user": {
      "displayName": "김재경",
      "userId": "17640319238031841520"
     },
     "user_tz": -540
    },
    "id": "kJIkRpx0GA7b"
   },
   "outputs": [],
   "source": []
  },
  {
   "cell_type": "markdown",
   "metadata": {
    "id": "uUsvzdsAF3P4"
   },
   "source": [
    "### Decision tree, KNN model을 평가하고 결과 비교\n",
    " - 평가방식: accuracy\n",
    " - print함수를 이용해 각 model accuracy 값을 출력"
   ]
  },
  {
   "cell_type": "code",
   "execution_count": 29,
   "metadata": {
    "executionInfo": {
     "elapsed": 10,
     "status": "ok",
     "timestamp": 1661213276632,
     "user": {
      "displayName": "김재경",
      "userId": "17640319238031841520"
     },
     "user_tz": -540
    },
    "id": "2u5BrJHRGMOo"
   },
   "outputs": [],
   "source": []
  },
  {
   "cell_type": "markdown",
   "metadata": {
    "id": "Ep7zj8KXGMia"
   },
   "source": [
    "### Decision tree결과를 graphviz 이용해 시각화\n",
    " - 사용 라이브러리: export_graphviz\n",
    " - class_names에는 wine data의 target name을 feature_names에는 wine data의 feature name을 넣어서 export 하기\n",
    " - Export한 file을 불러와서 시각화 "
   ]
  },
  {
   "cell_type": "code",
   "execution_count": 29,
   "metadata": {
    "executionInfo": {
     "elapsed": 10,
     "status": "ok",
     "timestamp": 1661213276632,
     "user": {
      "displayName": "김재경",
      "userId": "17640319238031841520"
     },
     "user_tz": -540
    },
    "id": "adH3RnV_JlMY"
   },
   "outputs": [],
   "source": []
  },
  {
   "cell_type": "code",
   "execution_count": 18,
   "metadata": {
    "colab": {
     "base_uri": "https://localhost:8080/",
     "height": 792
    },
    "executionInfo": {
     "elapsed": 11,
     "status": "ok",
     "timestamp": 1661213276633,
     "user": {
      "displayName": "김재경",
      "userId": "17640319238031841520"
     },
     "user_tz": -540
    },
    "id": "B8t2MIDIB9pw",
    "outputId": "c36a2b5a-252c-45e8-ebcb-ab8951eae8e1",
    "scrolled": false
   },
   "outputs": [
    {
     "name": "stdout",
     "output_type": "stream",
     "text": [
      "Decision Tree Accuracy:0.91%\n",
      "KNN Accuracy:0.91%\n"
     ]
    },
    {
     "data": {
      "image/svg+xml": [
       "<?xml version=\"1.0\" encoding=\"UTF-8\" standalone=\"no\"?>\n",
       "<!DOCTYPE svg PUBLIC \"-//W3C//DTD SVG 1.1//EN\"\n",
       " \"http://www.w3.org/Graphics/SVG/1.1/DTD/svg11.dtd\">\n",
       "<!-- Generated by graphviz version 6.0.1 (20220911.1526)\n",
       " -->\n",
       "<!-- Title: Tree Pages: 1 -->\n",
       "<svg width=\"812pt\" height=\"552pt\"\n",
       " viewBox=\"0.00 0.00 812.00 552.00\" xmlns=\"http://www.w3.org/2000/svg\" xmlns:xlink=\"http://www.w3.org/1999/xlink\">\n",
       "<g id=\"graph0\" class=\"graph\" transform=\"scale(1 1) rotate(0) translate(4 548)\">\n",
       "<title>Tree</title>\n",
       "<polygon fill=\"white\" stroke=\"none\" points=\"-4,4 -4,-548 808,-548 808,4 -4,4\"/>\n",
       "<!-- 0 -->\n",
       "<g id=\"node1\" class=\"node\">\n",
       "<title>0</title>\n",
       "<polygon fill=\"#ffffff\" stroke=\"black\" points=\"358,-544 221,-544 221,-461 358,-461 358,-544\"/>\n",
       "<text text-anchor=\"middle\" x=\"289.5\" y=\"-528.8\" font-family=\"Helvetica,sans-Serif\" font-size=\"14.00\">proline &lt;= 787.5</text>\n",
       "<text text-anchor=\"middle\" x=\"289.5\" y=\"-513.8\" font-family=\"Helvetica,sans-Serif\" font-size=\"14.00\">gini = 0.664</text>\n",
       "<text text-anchor=\"middle\" x=\"289.5\" y=\"-498.8\" font-family=\"Helvetica,sans-Serif\" font-size=\"14.00\">samples = 124</text>\n",
       "<text text-anchor=\"middle\" x=\"289.5\" y=\"-483.8\" font-family=\"Helvetica,sans-Serif\" font-size=\"14.00\">value = [44, 44, 36]</text>\n",
       "<text text-anchor=\"middle\" x=\"289.5\" y=\"-468.8\" font-family=\"Helvetica,sans-Serif\" font-size=\"14.00\">class = class_0</text>\n",
       "</g>\n",
       "<!-- 1 -->\n",
       "<g id=\"node2\" class=\"node\">\n",
       "<title>1</title>\n",
       "<polygon fill=\"#d6fae5\" stroke=\"black\" points=\"285.5,-425 125.5,-425 125.5,-342 285.5,-342 285.5,-425\"/>\n",
       "<text text-anchor=\"middle\" x=\"205.5\" y=\"-409.8\" font-family=\"Helvetica,sans-Serif\" font-size=\"14.00\">color_intensity &lt;= 4.02</text>\n",
       "<text text-anchor=\"middle\" x=\"205.5\" y=\"-394.8\" font-family=\"Helvetica,sans-Serif\" font-size=\"14.00\">gini = 0.506</text>\n",
       "<text text-anchor=\"middle\" x=\"205.5\" y=\"-379.8\" font-family=\"Helvetica,sans-Serif\" font-size=\"14.00\">samples = 76</text>\n",
       "<text text-anchor=\"middle\" x=\"205.5\" y=\"-364.8\" font-family=\"Helvetica,sans-Serif\" font-size=\"14.00\">value = [1, 42, 33]</text>\n",
       "<text text-anchor=\"middle\" x=\"205.5\" y=\"-349.8\" font-family=\"Helvetica,sans-Serif\" font-size=\"14.00\">class = class_1</text>\n",
       "</g>\n",
       "<!-- 0&#45;&gt;1 -->\n",
       "<g id=\"edge1\" class=\"edge\">\n",
       "<title>0&#45;&gt;1</title>\n",
       "<path fill=\"none\" stroke=\"black\" d=\"M260.36,-460.91C253.97,-452.01 247.15,-442.51 240.56,-433.33\"/>\n",
       "<polygon fill=\"black\" stroke=\"black\" points=\"243.27,-431.1 234.59,-425.02 237.58,-435.19 243.27,-431.1\"/>\n",
       "<text text-anchor=\"middle\" x=\"230.54\" y=\"-445.99\" font-family=\"Helvetica,sans-Serif\" font-size=\"14.00\">True</text>\n",
       "</g>\n",
       "<!-- 8 -->\n",
       "<g id=\"node9\" class=\"node\">\n",
       "<title>8</title>\n",
       "<polygon fill=\"#e88f4f\" stroke=\"black\" points=\"474,-425 333,-425 333,-342 474,-342 474,-425\"/>\n",
       "<text text-anchor=\"middle\" x=\"403.5\" y=\"-409.8\" font-family=\"Helvetica,sans-Serif\" font-size=\"14.00\">flavanoids &lt;= 2.165</text>\n",
       "<text text-anchor=\"middle\" x=\"403.5\" y=\"-394.8\" font-family=\"Helvetica,sans-Serif\" font-size=\"14.00\">gini = 0.192</text>\n",
       "<text text-anchor=\"middle\" x=\"403.5\" y=\"-379.8\" font-family=\"Helvetica,sans-Serif\" font-size=\"14.00\">samples = 48</text>\n",
       "<text text-anchor=\"middle\" x=\"403.5\" y=\"-364.8\" font-family=\"Helvetica,sans-Serif\" font-size=\"14.00\">value = [43, 2, 3]</text>\n",
       "<text text-anchor=\"middle\" x=\"403.5\" y=\"-349.8\" font-family=\"Helvetica,sans-Serif\" font-size=\"14.00\">class = class_0</text>\n",
       "</g>\n",
       "<!-- 0&#45;&gt;8 -->\n",
       "<g id=\"edge8\" class=\"edge\">\n",
       "<title>0&#45;&gt;8</title>\n",
       "<path fill=\"none\" stroke=\"black\" d=\"M329.05,-460.91C338.07,-451.65 347.74,-441.73 357.01,-432.21\"/>\n",
       "<polygon fill=\"black\" stroke=\"black\" points=\"359.55,-434.63 364.02,-425.02 354.53,-429.74 359.55,-434.63\"/>\n",
       "<text text-anchor=\"middle\" x=\"364.34\" y=\"-446.32\" font-family=\"Helvetica,sans-Serif\" font-size=\"14.00\">False</text>\n",
       "</g>\n",
       "<!-- 2 -->\n",
       "<g id=\"node3\" class=\"node\">\n",
       "<title>2</title>\n",
       "<polygon fill=\"#39e581\" stroke=\"black\" points=\"121,-298.5 0,-298.5 0,-230.5 121,-230.5 121,-298.5\"/>\n",
       "<text text-anchor=\"middle\" x=\"60.5\" y=\"-283.3\" font-family=\"Helvetica,sans-Serif\" font-size=\"14.00\">gini = 0.0</text>\n",
       "<text text-anchor=\"middle\" x=\"60.5\" y=\"-268.3\" font-family=\"Helvetica,sans-Serif\" font-size=\"14.00\">samples = 40</text>\n",
       "<text text-anchor=\"middle\" x=\"60.5\" y=\"-253.3\" font-family=\"Helvetica,sans-Serif\" font-size=\"14.00\">value = [0, 40, 0]</text>\n",
       "<text text-anchor=\"middle\" x=\"60.5\" y=\"-238.3\" font-family=\"Helvetica,sans-Serif\" font-size=\"14.00\">class = class_1</text>\n",
       "</g>\n",
       "<!-- 1&#45;&gt;2 -->\n",
       "<g id=\"edge2\" class=\"edge\">\n",
       "<title>1&#45;&gt;2</title>\n",
       "<path fill=\"none\" stroke=\"black\" d=\"M155.19,-341.91C140.42,-329.99 124.29,-316.98 109.6,-305.12\"/>\n",
       "<polygon fill=\"black\" stroke=\"black\" points=\"111.58,-302.22 101.6,-298.67 107.19,-307.67 111.58,-302.22\"/>\n",
       "</g>\n",
       "<!-- 3 -->\n",
       "<g id=\"node4\" class=\"node\">\n",
       "<title>3</title>\n",
       "<polygon fill=\"#8c4ae7\" stroke=\"black\" points=\"272,-306 139,-306 139,-223 272,-223 272,-306\"/>\n",
       "<text text-anchor=\"middle\" x=\"205.5\" y=\"-290.8\" font-family=\"Helvetica,sans-Serif\" font-size=\"14.00\">flavanoids &lt;= 2.02</text>\n",
       "<text text-anchor=\"middle\" x=\"205.5\" y=\"-275.8\" font-family=\"Helvetica,sans-Serif\" font-size=\"14.00\">gini = 0.156</text>\n",
       "<text text-anchor=\"middle\" x=\"205.5\" y=\"-260.8\" font-family=\"Helvetica,sans-Serif\" font-size=\"14.00\">samples = 36</text>\n",
       "<text text-anchor=\"middle\" x=\"205.5\" y=\"-245.8\" font-family=\"Helvetica,sans-Serif\" font-size=\"14.00\">value = [1, 2, 33]</text>\n",
       "<text text-anchor=\"middle\" x=\"205.5\" y=\"-230.8\" font-family=\"Helvetica,sans-Serif\" font-size=\"14.00\">class = class_2</text>\n",
       "</g>\n",
       "<!-- 1&#45;&gt;3 -->\n",
       "<g id=\"edge3\" class=\"edge\">\n",
       "<title>1&#45;&gt;3</title>\n",
       "<path fill=\"none\" stroke=\"black\" d=\"M205.5,-341.91C205.5,-333.65 205.5,-324.86 205.5,-316.3\"/>\n",
       "<polygon fill=\"black\" stroke=\"black\" points=\"209,-316.02 205.5,-306.02 202,-316.02 209,-316.02\"/>\n",
       "</g>\n",
       "<!-- 4 -->\n",
       "<g id=\"node5\" class=\"node\">\n",
       "<title>4</title>\n",
       "<polygon fill=\"#8139e5\" stroke=\"black\" points=\"127,-179.5 6,-179.5 6,-111.5 127,-111.5 127,-179.5\"/>\n",
       "<text text-anchor=\"middle\" x=\"66.5\" y=\"-164.3\" font-family=\"Helvetica,sans-Serif\" font-size=\"14.00\">gini = 0.0</text>\n",
       "<text text-anchor=\"middle\" x=\"66.5\" y=\"-149.3\" font-family=\"Helvetica,sans-Serif\" font-size=\"14.00\">samples = 33</text>\n",
       "<text text-anchor=\"middle\" x=\"66.5\" y=\"-134.3\" font-family=\"Helvetica,sans-Serif\" font-size=\"14.00\">value = [0, 0, 33]</text>\n",
       "<text text-anchor=\"middle\" x=\"66.5\" y=\"-119.3\" font-family=\"Helvetica,sans-Serif\" font-size=\"14.00\">class = class_2</text>\n",
       "</g>\n",
       "<!-- 3&#45;&gt;4 -->\n",
       "<g id=\"edge4\" class=\"edge\">\n",
       "<title>3&#45;&gt;4</title>\n",
       "<path fill=\"none\" stroke=\"black\" d=\"M157.27,-222.91C143.12,-210.99 127.65,-197.98 113.57,-186.12\"/>\n",
       "<polygon fill=\"black\" stroke=\"black\" points=\"115.81,-183.43 105.9,-179.67 111.3,-188.78 115.81,-183.43\"/>\n",
       "</g>\n",
       "<!-- 5 -->\n",
       "<g id=\"node6\" class=\"node\">\n",
       "<title>5</title>\n",
       "<polygon fill=\"#9cf2c0\" stroke=\"black\" points=\"265.5,-187 145.5,-187 145.5,-104 265.5,-104 265.5,-187\"/>\n",
       "<text text-anchor=\"middle\" x=\"205.5\" y=\"-171.8\" font-family=\"Helvetica,sans-Serif\" font-size=\"14.00\">proline &lt;= 706.5</text>\n",
       "<text text-anchor=\"middle\" x=\"205.5\" y=\"-156.8\" font-family=\"Helvetica,sans-Serif\" font-size=\"14.00\">gini = 0.444</text>\n",
       "<text text-anchor=\"middle\" x=\"205.5\" y=\"-141.8\" font-family=\"Helvetica,sans-Serif\" font-size=\"14.00\">samples = 3</text>\n",
       "<text text-anchor=\"middle\" x=\"205.5\" y=\"-126.8\" font-family=\"Helvetica,sans-Serif\" font-size=\"14.00\">value = [1, 2, 0]</text>\n",
       "<text text-anchor=\"middle\" x=\"205.5\" y=\"-111.8\" font-family=\"Helvetica,sans-Serif\" font-size=\"14.00\">class = class_1</text>\n",
       "</g>\n",
       "<!-- 3&#45;&gt;5 -->\n",
       "<g id=\"edge5\" class=\"edge\">\n",
       "<title>3&#45;&gt;5</title>\n",
       "<path fill=\"none\" stroke=\"black\" d=\"M205.5,-222.91C205.5,-214.65 205.5,-205.86 205.5,-197.3\"/>\n",
       "<polygon fill=\"black\" stroke=\"black\" points=\"209,-197.02 205.5,-187.02 202,-197.02 209,-197.02\"/>\n",
       "</g>\n",
       "<!-- 6 -->\n",
       "<g id=\"node7\" class=\"node\">\n",
       "<title>6</title>\n",
       "<polygon fill=\"#39e581\" stroke=\"black\" points=\"197,-68 82,-68 82,0 197,0 197,-68\"/>\n",
       "<text text-anchor=\"middle\" x=\"139.5\" y=\"-52.8\" font-family=\"Helvetica,sans-Serif\" font-size=\"14.00\">gini = 0.0</text>\n",
       "<text text-anchor=\"middle\" x=\"139.5\" y=\"-37.8\" font-family=\"Helvetica,sans-Serif\" font-size=\"14.00\">samples = 2</text>\n",
       "<text text-anchor=\"middle\" x=\"139.5\" y=\"-22.8\" font-family=\"Helvetica,sans-Serif\" font-size=\"14.00\">value = [0, 2, 0]</text>\n",
       "<text text-anchor=\"middle\" x=\"139.5\" y=\"-7.8\" font-family=\"Helvetica,sans-Serif\" font-size=\"14.00\">class = class_1</text>\n",
       "</g>\n",
       "<!-- 5&#45;&gt;6 -->\n",
       "<g id=\"edge6\" class=\"edge\">\n",
       "<title>5&#45;&gt;6</title>\n",
       "<path fill=\"none\" stroke=\"black\" d=\"M180.92,-103.73C175.65,-94.97 170.06,-85.7 164.76,-76.91\"/>\n",
       "<polygon fill=\"black\" stroke=\"black\" points=\"167.73,-75.06 159.57,-68.3 161.74,-78.67 167.73,-75.06\"/>\n",
       "</g>\n",
       "<!-- 7 -->\n",
       "<g id=\"node8\" class=\"node\">\n",
       "<title>7</title>\n",
       "<polygon fill=\"#e58139\" stroke=\"black\" points=\"330,-68 215,-68 215,0 330,0 330,-68\"/>\n",
       "<text text-anchor=\"middle\" x=\"272.5\" y=\"-52.8\" font-family=\"Helvetica,sans-Serif\" font-size=\"14.00\">gini = 0.0</text>\n",
       "<text text-anchor=\"middle\" x=\"272.5\" y=\"-37.8\" font-family=\"Helvetica,sans-Serif\" font-size=\"14.00\">samples = 1</text>\n",
       "<text text-anchor=\"middle\" x=\"272.5\" y=\"-22.8\" font-family=\"Helvetica,sans-Serif\" font-size=\"14.00\">value = [1, 0, 0]</text>\n",
       "<text text-anchor=\"middle\" x=\"272.5\" y=\"-7.8\" font-family=\"Helvetica,sans-Serif\" font-size=\"14.00\">class = class_0</text>\n",
       "</g>\n",
       "<!-- 5&#45;&gt;7 -->\n",
       "<g id=\"edge7\" class=\"edge\">\n",
       "<title>5&#45;&gt;7</title>\n",
       "<path fill=\"none\" stroke=\"black\" d=\"M230.45,-103.73C235.81,-94.97 241.48,-85.7 246.86,-76.91\"/>\n",
       "<polygon fill=\"black\" stroke=\"black\" points=\"249.89,-78.66 252.12,-68.3 243.92,-75 249.89,-78.66\"/>\n",
       "</g>\n",
       "<!-- 9 -->\n",
       "<g id=\"node10\" class=\"node\">\n",
       "<title>9</title>\n",
       "<polygon fill=\"#ab7bee\" stroke=\"black\" points=\"487.5,-306 319.5,-306 319.5,-223 487.5,-223 487.5,-306\"/>\n",
       "<text text-anchor=\"middle\" x=\"403.5\" y=\"-290.8\" font-family=\"Helvetica,sans-Serif\" font-size=\"14.00\">color_intensity &lt;= 3.605</text>\n",
       "<text text-anchor=\"middle\" x=\"403.5\" y=\"-275.8\" font-family=\"Helvetica,sans-Serif\" font-size=\"14.00\">gini = 0.375</text>\n",
       "<text text-anchor=\"middle\" x=\"403.5\" y=\"-260.8\" font-family=\"Helvetica,sans-Serif\" font-size=\"14.00\">samples = 4</text>\n",
       "<text text-anchor=\"middle\" x=\"403.5\" y=\"-245.8\" font-family=\"Helvetica,sans-Serif\" font-size=\"14.00\">value = [0, 1, 3]</text>\n",
       "<text text-anchor=\"middle\" x=\"403.5\" y=\"-230.8\" font-family=\"Helvetica,sans-Serif\" font-size=\"14.00\">class = class_2</text>\n",
       "</g>\n",
       "<!-- 8&#45;&gt;9 -->\n",
       "<g id=\"edge9\" class=\"edge\">\n",
       "<title>8&#45;&gt;9</title>\n",
       "<path fill=\"none\" stroke=\"black\" d=\"M403.5,-341.91C403.5,-333.65 403.5,-324.86 403.5,-316.3\"/>\n",
       "<polygon fill=\"black\" stroke=\"black\" points=\"407,-316.02 403.5,-306.02 400,-316.02 407,-316.02\"/>\n",
       "</g>\n",
       "<!-- 12 -->\n",
       "<g id=\"node13\" class=\"node\">\n",
       "<title>12</title>\n",
       "<polygon fill=\"#e6843e\" stroke=\"black\" points=\"686,-306 535,-306 535,-223 686,-223 686,-306\"/>\n",
       "<text text-anchor=\"middle\" x=\"610.5\" y=\"-290.8\" font-family=\"Helvetica,sans-Serif\" font-size=\"14.00\">magnesium &lt;= 135.5</text>\n",
       "<text text-anchor=\"middle\" x=\"610.5\" y=\"-275.8\" font-family=\"Helvetica,sans-Serif\" font-size=\"14.00\">gini = 0.044</text>\n",
       "<text text-anchor=\"middle\" x=\"610.5\" y=\"-260.8\" font-family=\"Helvetica,sans-Serif\" font-size=\"14.00\">samples = 44</text>\n",
       "<text text-anchor=\"middle\" x=\"610.5\" y=\"-245.8\" font-family=\"Helvetica,sans-Serif\" font-size=\"14.00\">value = [43, 1, 0]</text>\n",
       "<text text-anchor=\"middle\" x=\"610.5\" y=\"-230.8\" font-family=\"Helvetica,sans-Serif\" font-size=\"14.00\">class = class_0</text>\n",
       "</g>\n",
       "<!-- 8&#45;&gt;12 -->\n",
       "<g id=\"edge12\" class=\"edge\">\n",
       "<title>8&#45;&gt;12</title>\n",
       "<path fill=\"none\" stroke=\"black\" d=\"M474.16,-342.56C492.07,-332.44 511.46,-321.48 529.83,-311.1\"/>\n",
       "<polygon fill=\"black\" stroke=\"black\" points=\"531.77,-314.02 538.75,-306.05 528.32,-307.93 531.77,-314.02\"/>\n",
       "</g>\n",
       "<!-- 10 -->\n",
       "<g id=\"node11\" class=\"node\">\n",
       "<title>10</title>\n",
       "<polygon fill=\"#39e581\" stroke=\"black\" points=\"399,-179.5 284,-179.5 284,-111.5 399,-111.5 399,-179.5\"/>\n",
       "<text text-anchor=\"middle\" x=\"341.5\" y=\"-164.3\" font-family=\"Helvetica,sans-Serif\" font-size=\"14.00\">gini = 0.0</text>\n",
       "<text text-anchor=\"middle\" x=\"341.5\" y=\"-149.3\" font-family=\"Helvetica,sans-Serif\" font-size=\"14.00\">samples = 1</text>\n",
       "<text text-anchor=\"middle\" x=\"341.5\" y=\"-134.3\" font-family=\"Helvetica,sans-Serif\" font-size=\"14.00\">value = [0, 1, 0]</text>\n",
       "<text text-anchor=\"middle\" x=\"341.5\" y=\"-119.3\" font-family=\"Helvetica,sans-Serif\" font-size=\"14.00\">class = class_1</text>\n",
       "</g>\n",
       "<!-- 9&#45;&gt;10 -->\n",
       "<g id=\"edge10\" class=\"edge\">\n",
       "<title>9&#45;&gt;10</title>\n",
       "<path fill=\"none\" stroke=\"black\" d=\"M381.99,-222.91C376.14,-211.87 369.8,-199.9 363.9,-188.77\"/>\n",
       "<polygon fill=\"black\" stroke=\"black\" points=\"366.85,-186.86 359.08,-179.67 360.67,-190.14 366.85,-186.86\"/>\n",
       "</g>\n",
       "<!-- 11 -->\n",
       "<g id=\"node12\" class=\"node\">\n",
       "<title>11</title>\n",
       "<polygon fill=\"#8139e5\" stroke=\"black\" points=\"532,-179.5 417,-179.5 417,-111.5 532,-111.5 532,-179.5\"/>\n",
       "<text text-anchor=\"middle\" x=\"474.5\" y=\"-164.3\" font-family=\"Helvetica,sans-Serif\" font-size=\"14.00\">gini = 0.0</text>\n",
       "<text text-anchor=\"middle\" x=\"474.5\" y=\"-149.3\" font-family=\"Helvetica,sans-Serif\" font-size=\"14.00\">samples = 3</text>\n",
       "<text text-anchor=\"middle\" x=\"474.5\" y=\"-134.3\" font-family=\"Helvetica,sans-Serif\" font-size=\"14.00\">value = [0, 0, 3]</text>\n",
       "<text text-anchor=\"middle\" x=\"474.5\" y=\"-119.3\" font-family=\"Helvetica,sans-Serif\" font-size=\"14.00\">class = class_2</text>\n",
       "</g>\n",
       "<!-- 9&#45;&gt;11 -->\n",
       "<g id=\"edge11\" class=\"edge\">\n",
       "<title>9&#45;&gt;11</title>\n",
       "<path fill=\"none\" stroke=\"black\" d=\"M428.13,-222.91C434.9,-211.76 442.24,-199.66 449.05,-188.44\"/>\n",
       "<polygon fill=\"black\" stroke=\"black\" points=\"452.18,-190.03 454.37,-179.67 446.19,-186.4 452.18,-190.03\"/>\n",
       "</g>\n",
       "<!-- 13 -->\n",
       "<g id=\"node14\" class=\"node\">\n",
       "<title>13</title>\n",
       "<polygon fill=\"#e58139\" stroke=\"black\" points=\"671,-179.5 550,-179.5 550,-111.5 671,-111.5 671,-179.5\"/>\n",
       "<text text-anchor=\"middle\" x=\"610.5\" y=\"-164.3\" font-family=\"Helvetica,sans-Serif\" font-size=\"14.00\">gini = 0.0</text>\n",
       "<text text-anchor=\"middle\" x=\"610.5\" y=\"-149.3\" font-family=\"Helvetica,sans-Serif\" font-size=\"14.00\">samples = 43</text>\n",
       "<text text-anchor=\"middle\" x=\"610.5\" y=\"-134.3\" font-family=\"Helvetica,sans-Serif\" font-size=\"14.00\">value = [43, 0, 0]</text>\n",
       "<text text-anchor=\"middle\" x=\"610.5\" y=\"-119.3\" font-family=\"Helvetica,sans-Serif\" font-size=\"14.00\">class = class_0</text>\n",
       "</g>\n",
       "<!-- 12&#45;&gt;13 -->\n",
       "<g id=\"edge13\" class=\"edge\">\n",
       "<title>12&#45;&gt;13</title>\n",
       "<path fill=\"none\" stroke=\"black\" d=\"M610.5,-222.91C610.5,-212.2 610.5,-200.62 610.5,-189.78\"/>\n",
       "<polygon fill=\"black\" stroke=\"black\" points=\"614,-189.67 610.5,-179.67 607,-189.67 614,-189.67\"/>\n",
       "</g>\n",
       "<!-- 14 -->\n",
       "<g id=\"node15\" class=\"node\">\n",
       "<title>14</title>\n",
       "<polygon fill=\"#39e581\" stroke=\"black\" points=\"804,-179.5 689,-179.5 689,-111.5 804,-111.5 804,-179.5\"/>\n",
       "<text text-anchor=\"middle\" x=\"746.5\" y=\"-164.3\" font-family=\"Helvetica,sans-Serif\" font-size=\"14.00\">gini = 0.0</text>\n",
       "<text text-anchor=\"middle\" x=\"746.5\" y=\"-149.3\" font-family=\"Helvetica,sans-Serif\" font-size=\"14.00\">samples = 1</text>\n",
       "<text text-anchor=\"middle\" x=\"746.5\" y=\"-134.3\" font-family=\"Helvetica,sans-Serif\" font-size=\"14.00\">value = [0, 1, 0]</text>\n",
       "<text text-anchor=\"middle\" x=\"746.5\" y=\"-119.3\" font-family=\"Helvetica,sans-Serif\" font-size=\"14.00\">class = class_1</text>\n",
       "</g>\n",
       "<!-- 12&#45;&gt;14 -->\n",
       "<g id=\"edge14\" class=\"edge\">\n",
       "<title>12&#45;&gt;14</title>\n",
       "<path fill=\"none\" stroke=\"black\" d=\"M657.68,-222.91C671.41,-211.1 686.39,-198.22 700.06,-186.45\"/>\n",
       "<polygon fill=\"black\" stroke=\"black\" points=\"702.65,-188.84 707.95,-179.67 698.08,-183.54 702.65,-188.84\"/>\n",
       "</g>\n",
       "</g>\n",
       "</svg>\n"
      ],
      "text/plain": [
       "<graphviz.sources.Source at 0x17687ec2a70>"
      ]
     },
     "execution_count": 18,
     "metadata": {},
     "output_type": "execute_result"
    }
   ],
   "source": [
    "import numpy as np\n",
    "import matplotlib.pyplot as plt\n",
    "from sklearn import neighbors, datasets\n",
    "from sklearn.cluster import KMeans\n",
    "from sklearn.metrics import accuracy_score\n",
    "from sklearn.tree import export_graphviz\n",
    "import graphviz\n",
    "\n",
    "wine = datasets.load_wine()\n",
    "data = wine.data\n",
    "x_train, x_test, y_train, y_test = train_test_split(wine.data, wine.target, test_size=0.3, random_state=10)\n",
    "\n",
    "DT_CLF = DecisionTreeClassifier(random_state=10)\n",
    "DT_CLF.fit(x_train, y_train)\n",
    "test_DT_pred=DT_CLF.predict(x_test)\n",
    "AC_test = accuracy_score(y_test, test_DT_pred)\n",
    "print(f'Decision Tree Accuracy:{AC_test:.2f}%')\n",
    "\n",
    "clf = neighbors.KNeighborsClassifier(10, weights='distance')\n",
    "clf.fit(x_train,y_train)\n",
    "test_KNN_pred=DT_CLF.predict(x_test)\n",
    "AC_test = accuracy_score(y_test, test_KNN_pred)\n",
    "print(f'KNN Accuracy:{AC_test:.2f}%')\n",
    "\n",
    "export_graphviz(DT_CLF, out_file=\"Decision tree classification.dot\", class_names = wine.target_names, feature_names = wine.feature_names, impurity=True, filled=True)\n",
    "\n",
    "with open(\"Decision tree classification.dot\") as visual:\n",
    "  DT_graph = visual.read()\n",
    "graphviz.Source(DT_graph)"
   ]
  },
  {
   "cell_type": "markdown",
   "metadata": {
    "id": "qRMrem7jPzhA"
   },
   "source": [
    "# Reference\n",
    "1. Linear regression - https://eunsukimme.github.io/ml/2019/10/15/LinearRegression/\n",
    "2. K-means clustering - https://yganalyst.github.io/ml/ML_clustering/\n",
    "3. Scikitlearn example - https://scikit-learn.org/stable/auto_examples/index.html\n",
    "4. Linear regressin - https://hleecaster.com/ml-linear-regression-example/\n",
    "5. Mathplotlib - https://thisisprogrammingworld.tistory.com/m/61\n",
    "6. Numpy.reshape - https://yganalyst.github.io/data_handling/memo_5/\n",
    "7. Linear regression - https://nicola-ml.tistory.com/25\n",
    "8. Scikit-learn dataset 다루기 - https://teddylee777.github.io/scikit-learn/scikit-learn-dataset\n",
    "9. Decision tree classification - https://injo.tistory.com/15\n",
    "10. Evaluation - https://gggggeun.tistory.com/17\n",
    "11. Data split - https://ebbnflow.tistory.com/126"
   ]
  },
  {
   "cell_type": "markdown",
   "metadata": {
    "id": "_MnMQDNTBsl9"
   },
   "source": []
  }
 ],
 "metadata": {
  "colab": {
   "collapsed_sections": [],
   "name": "머신러닝실습.ipynb",
   "provenance": []
  },
  "kernelspec": {
   "display_name": "Python 3 (ipykernel)",
   "language": "python",
   "name": "python3"
  },
  "language_info": {
   "codemirror_mode": {
    "name": "ipython",
    "version": 3
   },
   "file_extension": ".py",
   "mimetype": "text/x-python",
   "name": "python",
   "nbconvert_exporter": "python",
   "pygments_lexer": "ipython3",
   "version": "3.10.5"
  }
 },
 "nbformat": 4,
 "nbformat_minor": 1
}
