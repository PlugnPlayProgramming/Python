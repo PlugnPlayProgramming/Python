{
 "cells": [
  {
   "cell_type": "markdown",
   "metadata": {
    "id": "TVNNpqBtKQHf"
   },
   "source": [
    "python 3.10, \n",
    "Tesorflow, Keras 2.10\n",
    "numpy 1.23.1"
   ]
  },
  {
   "cell_type": "markdown",
   "metadata": {
    "id": "xLd-l4RfHBk8"
   },
   "source": [
    "# PART1. DNN 실습"
   ]
  },
  {
   "cell_type": "markdown",
   "metadata": {
    "id": "WQ277a8KK3y8"
   },
   "source": [
    "###필요한 라이브러리 호출\n",
    "- import를 이용하여 library 호출"
   ]
  },
  {
   "cell_type": "code",
   "execution_count": 1,
   "metadata": {
    "executionInfo": {
     "elapsed": 2874,
     "status": "ok",
     "timestamp": 1661223622534,
     "user": {
      "displayName": "김재경",
      "userId": "17640319238031841520"
     },
     "user_tz": -540
    },
    "id": "bwuayWIGNghV"
   },
   "outputs": [],
   "source": [
    "import numpy as np\n",
    "import tensorflow as tf\n",
    "from keras import layers, models\n",
    "from tensorflow.keras.models import Sequential\n",
    "from tensorflow.keras.layers import Dense"
   ]
  },
  {
   "cell_type": "markdown",
   "metadata": {
    "id": "_iEYn4IGLNNC"
   },
   "source": [
    "### Dataset 생성\n",
    "- Train, Test dataset 불러오기"
   ]
  },
  {
   "cell_type": "code",
   "execution_count": 2,
   "metadata": {
    "colab": {
     "base_uri": "https://localhost:8080/"
    },
    "executionInfo": {
     "elapsed": 344,
     "status": "ok",
     "timestamp": 1661223622872,
     "user": {
      "displayName": "김재경",
      "userId": "17640319238031841520"
     },
     "user_tz": -540
    },
    "id": "SiB8dlU-Ngfa",
    "outputId": "992b1bd8-5ded-4616-f08e-ef3dd0c80580"
   },
   "outputs": [
    {
     "name": "stdout",
     "output_type": "stream",
     "text": [
      "Downloading data from https://storage.googleapis.com/tensorflow/tf-keras-datasets/mnist.npz\n",
      "11490434/11490434 [==============================] - 2s 0us/step\n"
     ]
    }
   ],
   "source": [
    "from keras import datasets\n",
    "from keras.utils import np_utils\n",
    "\n",
    "(X_train,y_train), (X_test,y_test) = datasets.mnist.load_data()"
   ]
  },
  {
   "cell_type": "markdown",
   "metadata": {
    "id": "c0Y02UqrLVXR"
   },
   "source": [
    "- One-Hot Encoding 처리\n"
   ]
  },
  {
   "cell_type": "code",
   "execution_count": 3,
   "metadata": {
    "executionInfo": {
     "elapsed": 3,
     "status": "ok",
     "timestamp": 1661223622872,
     "user": {
      "displayName": "김재경",
      "userId": "17640319238031841520"
     },
     "user_tz": -540
    },
    "id": "CHMF-PYlNgdm"
   },
   "outputs": [],
   "source": [
    "y_train = np_utils.to_categorical(y_train)\n",
    "y_test = np_utils.to_categorical(y_test)"
   ]
  },
  {
   "cell_type": "markdown",
   "metadata": {
    "id": "vnTdpKg3LjX9"
   },
   "source": [
    "- Data pre-processing"
   ]
  },
  {
   "cell_type": "code",
   "execution_count": 4,
   "metadata": {
    "executionInfo": {
     "elapsed": 3,
     "status": "ok",
     "timestamp": 1661223622873,
     "user": {
      "displayName": "김재경",
      "userId": "17640319238031841520"
     },
     "user_tz": -540
    },
    "id": "GVq7tNnJNgb0"
   },
   "outputs": [],
   "source": [
    "L, W, H = X_train.shape\n",
    "X_train = X_train.reshape(-1, W * H)\n",
    "X_test = X_test.reshape(-1, W * H)\n",
    "\n",
    "X_train = X_train / 255.0\n",
    "X_test = X_test / 255.0"
   ]
  },
  {
   "cell_type": "markdown",
   "metadata": {
    "id": "4tDXlyN8LtCG"
   },
   "source": [
    "### 데이터 입력\n",
    "- MNIST  dataset 가져오기"
   ]
  },
  {
   "cell_type": "code",
   "execution_count": 5,
   "metadata": {
    "executionInfo": {
     "elapsed": 487,
     "status": "ok",
     "timestamp": 1661223623357,
     "user": {
      "displayName": "김재경",
      "userId": "17640319238031841520"
     },
     "user_tz": -540
    },
    "id": "L5NX5A5NNgZ9"
   },
   "outputs": [],
   "source": [
    "mnist = tf.keras.datasets.mnist"
   ]
  },
  {
   "cell_type": "markdown",
   "metadata": {
    "id": "jLIVEs4OLwXl"
   },
   "source": [
    "### 기본 파라미터 설정\n",
    "- 노드 수 설정하기"
   ]
  },
  {
   "cell_type": "code",
   "execution_count": 6,
   "metadata": {
    "executionInfo": {
     "elapsed": 5,
     "status": "ok",
     "timestamp": 1661223623357,
     "user": {
      "displayName": "김재경",
      "userId": "17640319238031841520"
     },
     "user_tz": -540
    },
    "id": "lBu8sB5mNgX8"
   },
   "outputs": [],
   "source": [
    "input_node = 784\n",
    "hidden_node = [100,50]\n",
    "output_node = 10"
   ]
  },
  {
   "cell_type": "markdown",
   "metadata": {
    "id": "2K61gbM9L7EB"
   },
   "source": [
    "### DNN 모델 구현\n",
    "- DNN 모델링"
   ]
  },
  {
   "cell_type": "code",
   "execution_count": 7,
   "metadata": {
    "colab": {
     "base_uri": "https://localhost:8080/"
    },
    "executionInfo": {
     "elapsed": 2941,
     "status": "ok",
     "timestamp": 1661223626293,
     "user": {
      "displayName": "김재경",
      "userId": "17640319238031841520"
     },
     "user_tz": -540
    },
    "id": "mUPyMjLINgV8",
    "outputId": "4fdce106-4351-40f8-a940-07e8109895bc"
   },
   "outputs": [
    {
     "name": "stdout",
     "output_type": "stream",
     "text": [
      "Model: \"sequential\"\n",
      "_________________________________________________________________\n",
      " Layer (type)                Output Shape              Param #   \n",
      "=================================================================\n",
      " Hidden1 (Dense)             (None, 100)               78500     \n",
      "                                                                 \n",
      " Hidden2 (Dense)             (None, 50)                5050      \n",
      "                                                                 \n",
      " dense (Dense)               (None, 10)                510       \n",
      "                                                                 \n",
      "=================================================================\n",
      "Total params: 84,060\n",
      "Trainable params: 84,060\n",
      "Non-trainable params: 0\n",
      "_________________________________________________________________\n"
     ]
    }
   ],
   "source": [
    "model = Sequential()\n",
    "\n",
    "model.add(Dense(hidden_node[0], input_dim=input_node, activation = 'relu', name='Hidden1'))\n",
    "model.add(Dense(hidden_node[1], activation = 'relu', name='Hidden2'))\n",
    "model.add(Dense(output_node, activation = 'softmax'))\n",
    "\n",
    "model.compile(loss='categorical_crossentropy', optimizer='adam', metrics=['accuracy'])\n",
    "\n",
    "model.summary()"
   ]
  },
  {
   "cell_type": "markdown",
   "metadata": {
    "id": "tMVeV3vyL9yy"
   },
   "source": [
    "### 분류 DNN 학습 및 성능평가\n",
    "- 데이터 학습 및 성능 평가"
   ]
  },
  {
   "cell_type": "code",
   "execution_count": 8,
   "metadata": {
    "colab": {
     "base_uri": "https://localhost:8080/"
    },
    "executionInfo": {
     "elapsed": 43162,
     "status": "ok",
     "timestamp": 1661223669453,
     "user": {
      "displayName": "김재경",
      "userId": "17640319238031841520"
     },
     "user_tz": -540
    },
    "id": "Uv2SZB6LNgT9",
    "outputId": "d7dc32ba-3cc1-4cb6-c8d2-45a5ef2d4888"
   },
   "outputs": [
    {
     "name": "stdout",
     "output_type": "stream",
     "text": [
      "Epoch 1/20\n",
      "420/420 [==============================] - 4s 5ms/step - loss: 0.4025 - accuracy: 0.8860 - val_loss: 0.1977 - val_accuracy: 0.9424\n",
      "Epoch 2/20\n",
      "420/420 [==============================] - 2s 4ms/step - loss: 0.1583 - accuracy: 0.9535 - val_loss: 0.1509 - val_accuracy: 0.9578\n",
      "Epoch 3/20\n",
      "420/420 [==============================] - 2s 4ms/step - loss: 0.1116 - accuracy: 0.9679 - val_loss: 0.1300 - val_accuracy: 0.9618\n",
      "Epoch 4/20\n",
      "420/420 [==============================] - 2s 4ms/step - loss: 0.0873 - accuracy: 0.9744 - val_loss: 0.1225 - val_accuracy: 0.9640\n",
      "Epoch 5/20\n",
      "420/420 [==============================] - 2s 4ms/step - loss: 0.0697 - accuracy: 0.9796 - val_loss: 0.1316 - val_accuracy: 0.9611\n",
      "Epoch 6/20\n",
      "420/420 [==============================] - 2s 4ms/step - loss: 0.0560 - accuracy: 0.9834 - val_loss: 0.1144 - val_accuracy: 0.9671\n",
      "Epoch 7/20\n",
      "420/420 [==============================] - 2s 4ms/step - loss: 0.0457 - accuracy: 0.9861 - val_loss: 0.1181 - val_accuracy: 0.9669\n",
      "Epoch 8/20\n",
      "420/420 [==============================] - 2s 4ms/step - loss: 0.0375 - accuracy: 0.9884 - val_loss: 0.1095 - val_accuracy: 0.9683\n",
      "Epoch 9/20\n",
      "420/420 [==============================] - 2s 4ms/step - loss: 0.0316 - accuracy: 0.9907 - val_loss: 0.1100 - val_accuracy: 0.9698\n",
      "Epoch 10/20\n",
      "420/420 [==============================] - 2s 4ms/step - loss: 0.0249 - accuracy: 0.9933 - val_loss: 0.1124 - val_accuracy: 0.9675\n",
      "Epoch 11/20\n",
      "420/420 [==============================] - 2s 4ms/step - loss: 0.0234 - accuracy: 0.9930 - val_loss: 0.1167 - val_accuracy: 0.9693\n",
      "Epoch 12/20\n",
      "420/420 [==============================] - 2s 4ms/step - loss: 0.0191 - accuracy: 0.9942 - val_loss: 0.1242 - val_accuracy: 0.9692\n",
      "Epoch 13/20\n",
      "420/420 [==============================] - 2s 4ms/step - loss: 0.0135 - accuracy: 0.9963 - val_loss: 0.1330 - val_accuracy: 0.9688\n",
      "Epoch 14/20\n",
      "420/420 [==============================] - 2s 4ms/step - loss: 0.0140 - accuracy: 0.9958 - val_loss: 0.1263 - val_accuracy: 0.9688\n",
      "Epoch 15/20\n",
      "420/420 [==============================] - 2s 4ms/step - loss: 0.0133 - accuracy: 0.9959 - val_loss: 0.1214 - val_accuracy: 0.9717\n",
      "Epoch 16/20\n",
      "420/420 [==============================] - 2s 4ms/step - loss: 0.0136 - accuracy: 0.9955 - val_loss: 0.1198 - val_accuracy: 0.9731\n",
      "Epoch 17/20\n",
      "420/420 [==============================] - 2s 4ms/step - loss: 0.0090 - accuracy: 0.9974 - val_loss: 0.1304 - val_accuracy: 0.9706\n",
      "Epoch 18/20\n",
      "420/420 [==============================] - 2s 4ms/step - loss: 0.0101 - accuracy: 0.9970 - val_loss: 0.1397 - val_accuracy: 0.9706\n",
      "Epoch 19/20\n",
      "420/420 [==============================] - 2s 4ms/step - loss: 0.0095 - accuracy: 0.9970 - val_loss: 0.1360 - val_accuracy: 0.9702\n",
      "Epoch 20/20\n",
      "420/420 [==============================] - 2s 4ms/step - loss: 0.0049 - accuracy: 0.9988 - val_loss: 0.1312 - val_accuracy: 0.9729\n",
      "313/313 [==============================] - 1s 2ms/step - loss: 0.1053 - accuracy: 0.9772\n",
      "Test Loss and Accuracy : [0.10529028624296188, 0.9771999716758728]\n"
     ]
    }
   ],
   "source": [
    "model.fit(X_train,y_train, epochs=20, batch_size= 100, validation_split = 0.3)\n",
    "result = model.evaluate(X_test,y_test)\n",
    "print('Test Loss and Accuracy :', result)"
   ]
  },
  {
   "cell_type": "markdown",
   "metadata": {
    "id": "vswHtp8CHGFX"
   },
   "source": [
    "# PART2. CNN 실습"
   ]
  },
  {
   "cell_type": "markdown",
   "metadata": {
    "id": "LQnhySXZMBf3"
   },
   "source": [
    "### 필요한 라이브러리 호출\n",
    "- import를 이용하여 필요한 library 호출"
   ]
  },
  {
   "cell_type": "code",
   "execution_count": 9,
   "metadata": {
    "executionInfo": {
     "elapsed": 3,
     "status": "ok",
     "timestamp": 1661223669453,
     "user": {
      "displayName": "김재경",
      "userId": "17640319238031841520"
     },
     "user_tz": -540
    },
    "id": "ggzUB5dJNgSR"
   },
   "outputs": [],
   "source": [
    "import tensorflow as tf\n",
    "import numpy as np"
   ]
  },
  {
   "cell_type": "markdown",
   "metadata": {
    "id": "gsTT41bzMtq3"
   },
   "source": [
    "### Dataset 생성\n",
    "- Tensorflow에서 MNIST 데이터 다운"
   ]
  },
  {
   "cell_type": "code",
   "execution_count": 10,
   "metadata": {
    "executionInfo": {
     "elapsed": 533,
     "status": "ok",
     "timestamp": 1661223669984,
     "user": {
      "displayName": "김재경",
      "userId": "17640319238031841520"
     },
     "user_tz": -540
    },
    "id": "kiuobZc2NgOl"
   },
   "outputs": [],
   "source": [
    "(x_train,y_train), (x_test,y_test) = tf.keras.datasets.mnist.load_data()"
   ]
  },
  {
   "cell_type": "code",
   "execution_count": 11,
   "metadata": {
    "executionInfo": {
     "elapsed": 2,
     "status": "ok",
     "timestamp": 1661223669984,
     "user": {
      "displayName": "김재경",
      "userId": "17640319238031841520"
     },
     "user_tz": -540
    },
    "id": "TRzRT6l9fwcJ"
   },
   "outputs": [],
   "source": [
    "(x_train,y_train), (x_test,y_test) = tf.keras.datasets.mnist.load_data()"
   ]
  },
  {
   "cell_type": "markdown",
   "metadata": {
    "id": "KF_JEdHCM3EF"
   },
   "source": [
    "- Data pre-processing"
   ]
  },
  {
   "cell_type": "code",
   "execution_count": 12,
   "metadata": {
    "executionInfo": {
     "elapsed": 331,
     "status": "ok",
     "timestamp": 1661223670314,
     "user": {
      "displayName": "김재경",
      "userId": "17640319238031841520"
     },
     "user_tz": -540
    },
    "id": "WX8uexT9HbgY"
   },
   "outputs": [],
   "source": [
    "tf.random.set_seed(1234)\n",
    "\n",
    "x_train, x_test = x_train / 255.0, x_test / 255.0\n",
    "\n",
    "x_train = x_train.reshape(-1,28,28,1)\n",
    "x_test = x_test.reshape(-1,28,28,1)"
   ]
  },
  {
   "cell_type": "markdown",
   "metadata": {
    "id": "g8328XcfM8HF"
   },
   "source": [
    "- One-Hot encoding 처리"
   ]
  },
  {
   "cell_type": "code",
   "execution_count": 13,
   "metadata": {
    "executionInfo": {
     "elapsed": 8,
     "status": "ok",
     "timestamp": 1661223670315,
     "user": {
      "displayName": "김재경",
      "userId": "17640319238031841520"
     },
     "user_tz": -540
    },
    "id": "WiXXdWkzHbe4"
   },
   "outputs": [],
   "source": [
    "y_train = tf.keras.utils.to_categorical(y_train, 10)\n",
    "y_test = tf.keras.utils.to_categorical(y_test,10)"
   ]
  },
  {
   "cell_type": "markdown",
   "metadata": {
    "id": "tT-4hXx3NDI0"
   },
   "source": [
    "### CNN 모델 구현\n",
    "- CNN 모델링"
   ]
  },
  {
   "cell_type": "code",
   "execution_count": 14,
   "metadata": {
    "executionInfo": {
     "elapsed": 7,
     "status": "ok",
     "timestamp": 1661223670315,
     "user": {
      "displayName": "김재경",
      "userId": "17640319238031841520"
     },
     "user_tz": -540
    },
    "id": "m0mMYcW1Hbc4"
   },
   "outputs": [],
   "source": [
    "model = tf.keras.Sequential([\n",
    "    tf.keras.layers.Conv2D(kernel_size=(3,3), filters=64, input_shape=(28,28,1), padding='same', activation='relu'),\n",
    "    tf.keras.layers.Conv2D(kernel_size=(3,3), filters=64, padding='same', activation='relu'),\n",
    "    tf.keras.layers.MaxPool2D(pool_size=(2,2)),\n",
    "\n",
    "    tf.keras.layers.Conv2D(kernel_size=(3,3), filters=128, padding='same', activation='relu'),\n",
    "    tf.keras.layers.Conv2D(kernel_size=(3,3), filters=256, padding='valid', activation='relu'),\n",
    "    tf.keras.layers.MaxPool2D(pool_size=(2,2)),\n",
    "\n",
    "    tf.keras.layers.Flatten(),\n",
    "    tf.keras.layers.Dense(units=512, activation='relu'),\n",
    "    tf.keras.layers.Dropout(0.5),\n",
    "    tf.keras.layers.Dense(units=256, activation='relu'),\n",
    "    tf.keras.layers.Dropout(0.5),\n",
    "    tf.keras.layers.Dense(units=10, activation='softmax')\n",
    "])"
   ]
  },
  {
   "cell_type": "markdown",
   "metadata": {
    "id": "bkSRz2U3NQJv"
   },
   "source": [
    "### CNN 모델 구현\n",
    "- 모델 컴파일"
   ]
  },
  {
   "cell_type": "code",
   "execution_count": 16,
   "metadata": {
    "colab": {
     "base_uri": "https://localhost:8080/"
    },
    "executionInfo": {
     "elapsed": 7,
     "status": "ok",
     "timestamp": 1661223670315,
     "user": {
      "displayName": "김재경",
      "userId": "17640319238031841520"
     },
     "user_tz": -540
    },
    "id": "iBz7sPRNHbbI",
    "outputId": "aacba690-0483-4ccf-88a7-d4c9552583ef"
   },
   "outputs": [
    {
     "name": "stdout",
     "output_type": "stream",
     "text": [
      "Model: \"sequential_1\"\n",
      "_________________________________________________________________\n",
      " Layer (type)                Output Shape              Param #   \n",
      "=================================================================\n",
      " conv2d (Conv2D)             (None, 28, 28, 64)        640       \n",
      "                                                                 \n",
      " conv2d_1 (Conv2D)           (None, 28, 28, 64)        36928     \n",
      "                                                                 \n",
      " max_pooling2d (MaxPooling2D  (None, 14, 14, 64)       0         \n",
      " )                                                               \n",
      "                                                                 \n",
      " conv2d_2 (Conv2D)           (None, 14, 14, 128)       73856     \n",
      "                                                                 \n",
      " conv2d_3 (Conv2D)           (None, 12, 12, 256)       295168    \n",
      "                                                                 \n",
      " max_pooling2d_1 (MaxPooling  (None, 6, 6, 256)        0         \n",
      " 2D)                                                             \n",
      "                                                                 \n",
      " flatten (Flatten)           (None, 9216)              0         \n",
      "                                                                 \n",
      " dense_1 (Dense)             (None, 512)               4719104   \n",
      "                                                                 \n",
      " dropout (Dropout)           (None, 512)               0         \n",
      "                                                                 \n",
      " dense_2 (Dense)             (None, 256)               131328    \n",
      "                                                                 \n",
      " dropout_1 (Dropout)         (None, 256)               0         \n",
      "                                                                 \n",
      " dense_3 (Dense)             (None, 10)                2570      \n",
      "                                                                 \n",
      "=================================================================\n",
      "Total params: 5,259,594\n",
      "Trainable params: 5,259,594\n",
      "Non-trainable params: 0\n",
      "_________________________________________________________________\n"
     ]
    }
   ],
   "source": [
    "model.compile(loss='categorical_crossentropy', optimizer=tf.optimizers.Adam(learning_rate=0.001), metrics=['accuracy'])\n",
    "model.summary()"
   ]
  },
  {
   "cell_type": "markdown",
   "metadata": {
    "id": "vZzVviylNUFE"
   },
   "source": [
    "### 모델 평가\n",
    "- 모델 훈련 및 평가"
   ]
  },
  {
   "cell_type": "code",
   "execution_count": 17,
   "metadata": {
    "colab": {
     "base_uri": "https://localhost:8080/"
    },
    "executionInfo": {
     "elapsed": 144221,
     "status": "ok",
     "timestamp": 1661223814876,
     "user": {
      "displayName": "김재경",
      "userId": "17640319238031841520"
     },
     "user_tz": -540
    },
    "id": "wApUMvlwHbZG",
    "outputId": "cc5b8f02-948d-4f39-9716-3bb60e9d43e1"
   },
   "outputs": [
    {
     "name": "stdout",
     "output_type": "stream",
     "text": [
      "Epoch 1/10\n",
      "600/600 [==============================] - 48s 70ms/step - loss: 0.1907 - accuracy: 0.9402 - val_loss: 0.0502 - val_accuracy: 0.9854\n",
      "Epoch 2/10\n",
      "600/600 [==============================] - 45s 75ms/step - loss: 0.0566 - accuracy: 0.9839 - val_loss: 0.0406 - val_accuracy: 0.9874\n",
      "Epoch 3/10\n",
      "600/600 [==============================] - 47s 78ms/step - loss: 0.0402 - accuracy: 0.9893 - val_loss: 0.0226 - val_accuracy: 0.9935\n",
      "Epoch 4/10\n",
      "600/600 [==============================] - 46s 77ms/step - loss: 0.0343 - accuracy: 0.9904 - val_loss: 0.0193 - val_accuracy: 0.9939\n",
      "Epoch 5/10\n",
      "600/600 [==============================] - 46s 77ms/step - loss: 0.0256 - accuracy: 0.9926 - val_loss: 0.0225 - val_accuracy: 0.9930\n",
      "Epoch 6/10\n",
      "600/600 [==============================] - 47s 78ms/step - loss: 0.0241 - accuracy: 0.9931 - val_loss: 0.0160 - val_accuracy: 0.9954\n",
      "Epoch 7/10\n",
      "600/600 [==============================] - 47s 78ms/step - loss: 0.0206 - accuracy: 0.9944 - val_loss: 0.0186 - val_accuracy: 0.9947\n",
      "Epoch 8/10\n",
      "600/600 [==============================] - 47s 78ms/step - loss: 0.0174 - accuracy: 0.9950 - val_loss: 0.0263 - val_accuracy: 0.9939\n",
      "Epoch 9/10\n",
      "600/600 [==============================] - 47s 78ms/step - loss: 0.0162 - accuracy: 0.9953 - val_loss: 0.0245 - val_accuracy: 0.9939\n",
      "Epoch 10/10\n",
      "600/600 [==============================] - 47s 78ms/step - loss: 0.0150 - accuracy: 0.9957 - val_loss: 0.0340 - val_accuracy: 0.9910\n",
      "313/313 [==============================] - 4s 11ms/step - loss: 0.0340 - accuracy: 0.9910\n",
      "Accuracy(%): [0.03397579491138458, 0.9909999966621399]\n"
     ]
    }
   ],
   "source": [
    "model.fit(x_train, y_train, batch_size=100, epochs=10, validation_data=(x_test,y_test))\n",
    "\n",
    "result = model.evaluate(x_test,y_test)\n",
    "print(\"Accuracy(%):\", result)"
   ]
  },
  {
   "cell_type": "code",
   "execution_count": 18,
   "metadata": {
    "colab": {
     "base_uri": "https://localhost:8080/"
    },
    "executionInfo": {
     "elapsed": 4,
     "status": "ok",
     "timestamp": 1661223814876,
     "user": {
      "displayName": "김재경",
      "userId": "17640319238031841520"
     },
     "user_tz": -540
    },
    "id": "w4sxAf3aHbW-",
    "outputId": "f3e931d0-f5fd-4436-b26b-9ad37d2e0fe8"
   },
   "outputs": [
    {
     "name": "stdout",
     "output_type": "stream",
     "text": [
      "Accuracy(%): 0.9909999966621399\n"
     ]
    }
   ],
   "source": [
    "print(\"Accuracy(%):\", result[1])"
   ]
  },
  {
   "cell_type": "markdown",
   "metadata": {
    "id": "_EI7yhicJf_i"
   },
   "source": [
    "# 실습 예제"
   ]
  },
  {
   "cell_type": "code",
   "execution_count": 21,
   "metadata": {
    "executionInfo": {
     "elapsed": 3216,
     "status": "ok",
     "timestamp": 1661227193749,
     "user": {
      "displayName": "김재경",
      "userId": "17640319238031841520"
     },
     "user_tz": -540
    },
    "id": "kyvBaSBZHbU4"
   },
   "outputs": [],
   "source": [
    "import tensorflow as tf\n",
    "import numpy as np\n",
    "import ssl\n",
    "\n",
    "ssl._create_default_https_context = ssl._create_unverified_context"
   ]
  },
  {
   "cell_type": "code",
   "execution_count": 23,
   "metadata": {
    "executionInfo": {
     "elapsed": 1026,
     "status": "ok",
     "timestamp": 1661228458377,
     "user": {
      "displayName": "김재경",
      "userId": "17640319238031841520"
     },
     "user_tz": -540
    },
    "id": "NpqTCD40HbTF"
   },
   "outputs": [
    {
     "name": "stdout",
     "output_type": "stream",
     "text": [
      "Downloading data from https://www.cs.toronto.edu/~kriz/cifar-10-python.tar.gz\n",
      "170498071/170498071 [==============================] - 21s 0us/step\n"
     ]
    }
   ],
   "source": [
    "(x_train,y_train), (x_test,y_test) = tf.keras.datasets.cifar10.load_data()"
   ]
  },
  {
   "cell_type": "code",
   "execution_count": 24,
   "metadata": {
    "executionInfo": {
     "elapsed": 1195,
     "status": "ok",
     "timestamp": 1661228459571,
     "user": {
      "displayName": "김재경",
      "userId": "17640319238031841520"
     },
     "user_tz": -540
    },
    "id": "NsbijFfPHbQ_"
   },
   "outputs": [],
   "source": [
    "tf.random.set_seed(1234)\n",
    "\n",
    "x_train, x_test = x_train / 255.0, x_test / 255.0\n",
    "\n",
    "x_train = x_train.reshape((50000,32,32,3))\n",
    "x_test = x_test.reshape((10000,32,32,3))"
   ]
  },
  {
   "cell_type": "code",
   "execution_count": 25,
   "metadata": {
    "executionInfo": {
     "elapsed": 2,
     "status": "ok",
     "timestamp": 1661228459571,
     "user": {
      "displayName": "김재경",
      "userId": "17640319238031841520"
     },
     "user_tz": -540
    },
    "id": "K2CF6T-kHbPO"
   },
   "outputs": [],
   "source": [
    "y_train = tf.keras.utils.to_categorical(y_train, 10)\n",
    "y_test = tf.keras.utils.to_categorical(y_test,10)"
   ]
  },
  {
   "cell_type": "code",
   "execution_count": 26,
   "metadata": {
    "executionInfo": {
     "elapsed": 1,
     "status": "ok",
     "timestamp": 1661228460084,
     "user": {
      "displayName": "김재경",
      "userId": "17640319238031841520"
     },
     "user_tz": -540
    },
    "id": "HZ6BPxxaHbIG"
   },
   "outputs": [],
   "source": [
    "model = tf.keras.Sequential([\n",
    "    tf.keras.layers.Conv2D(kernel_size=(3,3), filters=32, input_shape=x_train.shape[1:], padding='same', activation='relu'),\n",
    "    tf.keras.layers.Conv2D(kernel_size=(3,3), filters=64, padding='same', activation='relu'),\n",
    "    tf.keras.layers.MaxPool2D(pool_size=(2,2)),\n",
    "\n",
    "    tf.keras.layers.Flatten(),\n",
    "    tf.keras.layers.Dense(units=64, activation='relu'),\n",
    "    tf.keras.layers.Dropout(0.25),\n",
    "    tf.keras.layers.Dense(units=10, activation='softmax')\n",
    "])"
   ]
  },
  {
   "cell_type": "code",
   "execution_count": 27,
   "metadata": {
    "colab": {
     "base_uri": "https://localhost:8080/"
    },
    "executionInfo": {
     "elapsed": 6,
     "status": "ok",
     "timestamp": 1661228462251,
     "user": {
      "displayName": "김재경",
      "userId": "17640319238031841520"
     },
     "user_tz": -540
    },
    "id": "wgQOrosrHbFu",
    "outputId": "b464ff40-eb0b-438a-d86e-9fd0abd6f60a"
   },
   "outputs": [
    {
     "name": "stdout",
     "output_type": "stream",
     "text": [
      "Model: \"sequential_2\"\n",
      "_________________________________________________________________\n",
      " Layer (type)                Output Shape              Param #   \n",
      "=================================================================\n",
      " conv2d_4 (Conv2D)           (None, 32, 32, 32)        896       \n",
      "                                                                 \n",
      " conv2d_5 (Conv2D)           (None, 32, 32, 64)        18496     \n",
      "                                                                 \n",
      " max_pooling2d_2 (MaxPooling  (None, 16, 16, 64)       0         \n",
      " 2D)                                                             \n",
      "                                                                 \n",
      " flatten_1 (Flatten)         (None, 16384)             0         \n",
      "                                                                 \n",
      " dense_4 (Dense)             (None, 64)                1048640   \n",
      "                                                                 \n",
      " dropout_2 (Dropout)         (None, 64)                0         \n",
      "                                                                 \n",
      " dense_5 (Dense)             (None, 10)                650       \n",
      "                                                                 \n",
      "=================================================================\n",
      "Total params: 1,068,682\n",
      "Trainable params: 1,068,682\n",
      "Non-trainable params: 0\n",
      "_________________________________________________________________\n"
     ]
    }
   ],
   "source": [
    "model.compile(loss='categorical_crossentropy', optimizer=tf.optimizers.Adam(lr=0.001), metrics=['accuracy'])\n",
    "model.summary()"
   ]
  },
  {
   "cell_type": "code",
   "execution_count": 28,
   "metadata": {
    "colab": {
     "base_uri": "https://localhost:8080/"
    },
    "executionInfo": {
     "elapsed": 165087,
     "status": "ok",
     "timestamp": 1661228630191,
     "user": {
      "displayName": "김재경",
      "userId": "17640319238031841520"
     },
     "user_tz": -540
    },
    "id": "u4MTye0yJxBu",
    "outputId": "e126a5c8-f2d4-4f2d-9751-9aafe137e7d4"
   },
   "outputs": [
    {
     "name": "stdout",
     "output_type": "stream",
     "text": [
      "Epoch 1/35\n",
      "500/500 [==============================] - 16s 29ms/step - loss: 1.5120 - accuracy: 0.4551 - val_loss: 1.1965 - val_accuracy: 0.5827\n",
      "Epoch 2/35\n",
      "500/500 [==============================] - 14s 28ms/step - loss: 1.1483 - accuracy: 0.5902 - val_loss: 1.0245 - val_accuracy: 0.6405\n",
      "Epoch 3/35\n",
      "500/500 [==============================] - 14s 28ms/step - loss: 1.0115 - accuracy: 0.6414 - val_loss: 0.9561 - val_accuracy: 0.6635\n",
      "Epoch 4/35\n",
      "500/500 [==============================] - 14s 28ms/step - loss: 0.9179 - accuracy: 0.6734 - val_loss: 0.9210 - val_accuracy: 0.6797\n",
      "Epoch 5/35\n",
      "500/500 [==============================] - 14s 29ms/step - loss: 0.8432 - accuracy: 0.6989 - val_loss: 0.8989 - val_accuracy: 0.6838\n",
      "Epoch 6/35\n",
      "500/500 [==============================] - 15s 30ms/step - loss: 0.7750 - accuracy: 0.7232 - val_loss: 0.8970 - val_accuracy: 0.6886\n",
      "Epoch 7/35\n",
      "500/500 [==============================] - 15s 29ms/step - loss: 0.7071 - accuracy: 0.7453 - val_loss: 0.8927 - val_accuracy: 0.6973\n",
      "Epoch 8/35\n",
      "500/500 [==============================] - 15s 30ms/step - loss: 0.6501 - accuracy: 0.7666 - val_loss: 0.9074 - val_accuracy: 0.6932\n",
      "Epoch 9/35\n",
      "500/500 [==============================] - 15s 30ms/step - loss: 0.5923 - accuracy: 0.7836 - val_loss: 0.9446 - val_accuracy: 0.6897\n",
      "Epoch 10/35\n",
      "500/500 [==============================] - 15s 29ms/step - loss: 0.5440 - accuracy: 0.7995 - val_loss: 0.9358 - val_accuracy: 0.6958\n",
      "Epoch 11/35\n",
      "500/500 [==============================] - 15s 30ms/step - loss: 0.4930 - accuracy: 0.8173 - val_loss: 1.0249 - val_accuracy: 0.6874\n",
      "Epoch 12/35\n",
      "500/500 [==============================] - 15s 29ms/step - loss: 0.4549 - accuracy: 0.8341 - val_loss: 1.0361 - val_accuracy: 0.6901\n",
      "Epoch 13/35\n",
      "500/500 [==============================] - 15s 30ms/step - loss: 0.4149 - accuracy: 0.8455 - val_loss: 1.1156 - val_accuracy: 0.6826\n",
      "Epoch 14/35\n",
      "500/500 [==============================] - 15s 30ms/step - loss: 0.3909 - accuracy: 0.8543 - val_loss: 1.1062 - val_accuracy: 0.6827\n",
      "Epoch 15/35\n",
      "500/500 [==============================] - 15s 30ms/step - loss: 0.3583 - accuracy: 0.8669 - val_loss: 1.1839 - val_accuracy: 0.6856\n",
      "Epoch 16/35\n",
      "500/500 [==============================] - 15s 30ms/step - loss: 0.3318 - accuracy: 0.8756 - val_loss: 1.2026 - val_accuracy: 0.6837\n",
      "Epoch 17/35\n",
      "500/500 [==============================] - 15s 29ms/step - loss: 0.3148 - accuracy: 0.8824 - val_loss: 1.3120 - val_accuracy: 0.6792\n",
      "Epoch 18/35\n",
      "500/500 [==============================] - 15s 30ms/step - loss: 0.2979 - accuracy: 0.8876 - val_loss: 1.3078 - val_accuracy: 0.6878\n",
      "Epoch 19/35\n",
      "500/500 [==============================] - 15s 30ms/step - loss: 0.2768 - accuracy: 0.8961 - val_loss: 1.3267 - val_accuracy: 0.6735\n",
      "Epoch 20/35\n",
      "500/500 [==============================] - 15s 29ms/step - loss: 0.2597 - accuracy: 0.9019 - val_loss: 1.4216 - val_accuracy: 0.6822\n",
      "Epoch 21/35\n",
      "500/500 [==============================] - 15s 29ms/step - loss: 0.2526 - accuracy: 0.9053 - val_loss: 1.5599 - val_accuracy: 0.6722\n",
      "Epoch 22/35\n",
      "500/500 [==============================] - 15s 30ms/step - loss: 0.2421 - accuracy: 0.9082 - val_loss: 1.4925 - val_accuracy: 0.6759\n",
      "Epoch 23/35\n",
      "500/500 [==============================] - 15s 29ms/step - loss: 0.2409 - accuracy: 0.9092 - val_loss: 1.5393 - val_accuracy: 0.6749\n",
      "Epoch 24/35\n",
      "500/500 [==============================] - 15s 30ms/step - loss: 0.2251 - accuracy: 0.9165 - val_loss: 1.5466 - val_accuracy: 0.6768\n",
      "Epoch 25/35\n",
      "500/500 [==============================] - 15s 30ms/step - loss: 0.2149 - accuracy: 0.9188 - val_loss: 1.5983 - val_accuracy: 0.6812\n",
      "Epoch 26/35\n",
      "500/500 [==============================] - 15s 30ms/step - loss: 0.2131 - accuracy: 0.9207 - val_loss: 1.6747 - val_accuracy: 0.6704\n",
      "Epoch 27/35\n",
      "500/500 [==============================] - 15s 30ms/step - loss: 0.2032 - accuracy: 0.9236 - val_loss: 1.7660 - val_accuracy: 0.6754\n",
      "Epoch 28/35\n",
      "500/500 [==============================] - 15s 30ms/step - loss: 0.2039 - accuracy: 0.9232 - val_loss: 1.7247 - val_accuracy: 0.6726\n",
      "Epoch 29/35\n",
      "500/500 [==============================] - 15s 30ms/step - loss: 0.1968 - accuracy: 0.9253 - val_loss: 1.7887 - val_accuracy: 0.6643\n",
      "Epoch 30/35\n",
      "500/500 [==============================] - 15s 30ms/step - loss: 0.1870 - accuracy: 0.9292 - val_loss: 1.7757 - val_accuracy: 0.6784\n",
      "Epoch 31/35\n",
      "500/500 [==============================] - 15s 30ms/step - loss: 0.1791 - accuracy: 0.9329 - val_loss: 1.8753 - val_accuracy: 0.6723\n",
      "Epoch 32/35\n",
      "500/500 [==============================] - 15s 30ms/step - loss: 0.1810 - accuracy: 0.9307 - val_loss: 1.9349 - val_accuracy: 0.6730\n",
      "Epoch 33/35\n",
      "500/500 [==============================] - 15s 30ms/step - loss: 0.1766 - accuracy: 0.9332 - val_loss: 1.9559 - val_accuracy: 0.6688\n",
      "Epoch 34/35\n",
      "500/500 [==============================] - 15s 30ms/step - loss: 0.1767 - accuracy: 0.9342 - val_loss: 1.9422 - val_accuracy: 0.6762\n",
      "Epoch 35/35\n",
      "500/500 [==============================] - 16s 32ms/step - loss: 0.1697 - accuracy: 0.9374 - val_loss: 1.9768 - val_accuracy: 0.6779\n",
      "313/313 [==============================] - 3s 7ms/step - loss: 1.9768 - accuracy: 0.6779\n",
      "Loss: 1.9767794609069824, Acc: 0.6779000163078308\n"
     ]
    }
   ],
   "source": [
    "model.fit(x_train, y_train, batch_size=100, epochs=35, validation_data=(x_test,y_test))\n",
    "\n",
    "loss,result = model.evaluate(x_test,y_test)\n",
    "print('Loss: {}, Acc: {}'.format(loss,result))"
   ]
  },
  {
   "cell_type": "markdown",
   "metadata": {},
   "source": [
    "# PART3. RNN 실습"
   ]
  },
  {
   "cell_type": "code",
   "execution_count": 30,
   "metadata": {},
   "outputs": [],
   "source": [
    "import numpy as np\n",
    "import tensorflow as tf\n",
    "\n",
    "idx2char = ['h', 'i', 'e', 'l', 'o']\n",
    "# Teach hello: hihell -> ihello\n",
    "# x_data = [[0, 1, 0, 2, 3, 3]]  # hihell\n",
    "y_data = [[1, 0, 2, 3, 3, 4]]  # ihello\n",
    "\n",
    "num_classes = 5\n",
    "input_dim = 5  # one-hot size, same as hidden_size to directly predict one-hot\n",
    "sequence_length = 6  # |ihello| == 6\n",
    "learning_rate = 0.1\n",
    "\n",
    "x_one_hot = np.array([[[1, 0, 0, 0, 0],    # h 0\n",
    "  [0, 1, 0, 0, 0],    # i 1\n",
    "  [1, 0, 0, 0, 0],    # h 0\n",
    "  [0, 0, 1, 0, 0],    # e 2\n",
    "  [0, 0, 0, 1, 0],    # l 3\n",
    "  [0, 0, 0, 1, 0]]],  # l 3\n",
    "  dtype=np.float32)"
   ]
  },
  {
   "cell_type": "code",
   "execution_count": 31,
   "metadata": {},
   "outputs": [
    {
     "name": "stdout",
     "output_type": "stream",
     "text": [
      "(1, 6, 5)\n"
     ]
    }
   ],
   "source": [
    "y_one_hot = tf.keras.utils.to_categorical(y_data, num_classes=num_classes)\n",
    "print(x_one_hot.shape)\n",
    "\n",
    "tf.model = tf.keras.Sequential()\n",
    "# make cell and add it to RNN layer\n",
    "# input_shape = (1,6,5) => number of sequence (batch), length of sequence, \n",
    "# size of input dim\n",
    "cell = tf.keras.layers.LSTMCell(units=num_classes, input_shape=(sequence_length, input_dim))\n",
    "tf.model.add(tf.keras.layers.RNN(cell=cell, return_sequences=True))\n",
    "\n",
    "# single LSTM layer can be used as well instead of creating LSTMCell\n",
    "# tf.model.add(tf.keras.layers.LSTM(units=num_classes, input_shape=(sequence_length, \n",
    "# input_dim), return_sequences=True))\n"
   ]
  },
  {
   "cell_type": "code",
   "execution_count": 32,
   "metadata": {},
   "outputs": [
    {
     "name": "stdout",
     "output_type": "stream",
     "text": [
      "Epoch 1/50\n",
      "1/1 [==============================] - 3s 3s/step - loss: 1.6461 - accuracy: 0.1667\n",
      "Epoch 2/50\n",
      "1/1 [==============================] - 0s 28ms/step - loss: 1.5512 - accuracy: 0.3333\n",
      "Epoch 3/50\n",
      "1/1 [==============================] - 0s 22ms/step - loss: 1.4816 - accuracy: 0.3333\n",
      "Epoch 4/50\n",
      "1/1 [==============================] - 0s 19ms/step - loss: 1.4021 - accuracy: 0.3333\n",
      "Epoch 5/50\n",
      "1/1 [==============================] - 0s 22ms/step - loss: 1.3017 - accuracy: 0.3333\n",
      "Epoch 6/50\n",
      "1/1 [==============================] - 0s 19ms/step - loss: 1.1839 - accuracy: 0.5000\n",
      "Epoch 7/50\n",
      "1/1 [==============================] - 0s 22ms/step - loss: 1.0575 - accuracy: 0.6667\n",
      "Epoch 8/50\n",
      "1/1 [==============================] - 0s 21ms/step - loss: 0.9368 - accuracy: 0.6667\n",
      "Epoch 9/50\n",
      "1/1 [==============================] - 0s 19ms/step - loss: 0.8342 - accuracy: 1.0000\n",
      "Epoch 10/50\n",
      "1/1 [==============================] - 0s 21ms/step - loss: 0.7424 - accuracy: 1.0000\n",
      "Epoch 11/50\n",
      "1/1 [==============================] - 0s 29ms/step - loss: 0.6525 - accuracy: 1.0000\n",
      "Epoch 12/50\n",
      "1/1 [==============================] - 0s 19ms/step - loss: 0.5709 - accuracy: 1.0000\n",
      "Epoch 13/50\n",
      "1/1 [==============================] - 0s 18ms/step - loss: 0.5026 - accuracy: 0.8333\n",
      "Epoch 14/50\n",
      "1/1 [==============================] - 0s 23ms/step - loss: 0.4351 - accuracy: 0.8333\n",
      "Epoch 15/50\n",
      "1/1 [==============================] - 0s 23ms/step - loss: 0.3713 - accuracy: 1.0000\n",
      "Epoch 16/50\n",
      "1/1 [==============================] - 0s 21ms/step - loss: 0.3086 - accuracy: 1.0000\n",
      "Epoch 17/50\n",
      "1/1 [==============================] - 0s 23ms/step - loss: 0.2563 - accuracy: 1.0000\n",
      "Epoch 18/50\n",
      "1/1 [==============================] - 0s 20ms/step - loss: 0.2172 - accuracy: 1.0000\n",
      "Epoch 19/50\n",
      "1/1 [==============================] - 0s 19ms/step - loss: 0.1774 - accuracy: 1.0000\n",
      "Epoch 20/50\n",
      "1/1 [==============================] - 0s 22ms/step - loss: 0.1382 - accuracy: 1.0000\n",
      "Epoch 21/50\n",
      "1/1 [==============================] - 0s 19ms/step - loss: 0.1113 - accuracy: 1.0000\n",
      "Epoch 22/50\n",
      "1/1 [==============================] - 0s 22ms/step - loss: 0.0915 - accuracy: 1.0000\n",
      "Epoch 23/50\n",
      "1/1 [==============================] - 0s 21ms/step - loss: 0.0716 - accuracy: 1.0000\n",
      "Epoch 24/50\n",
      "1/1 [==============================] - 0s 19ms/step - loss: 0.0564 - accuracy: 1.0000\n",
      "Epoch 25/50\n",
      "1/1 [==============================] - 0s 20ms/step - loss: 0.0470 - accuracy: 1.0000\n",
      "Epoch 26/50\n",
      "1/1 [==============================] - 0s 21ms/step - loss: 0.0400 - accuracy: 1.0000\n",
      "Epoch 27/50\n",
      "1/1 [==============================] - 0s 25ms/step - loss: 0.0334 - accuracy: 1.0000\n",
      "Epoch 28/50\n",
      "1/1 [==============================] - 0s 21ms/step - loss: 0.0273 - accuracy: 1.0000\n",
      "Epoch 29/50\n",
      "1/1 [==============================] - 0s 19ms/step - loss: 0.0227 - accuracy: 1.0000\n",
      "Epoch 30/50\n",
      "1/1 [==============================] - 0s 19ms/step - loss: 0.0194 - accuracy: 1.0000\n",
      "Epoch 31/50\n",
      "1/1 [==============================] - 0s 21ms/step - loss: 0.0171 - accuracy: 1.0000\n",
      "Epoch 32/50\n",
      "1/1 [==============================] - 0s 22ms/step - loss: 0.0152 - accuracy: 1.0000\n",
      "Epoch 33/50\n",
      "1/1 [==============================] - 0s 19ms/step - loss: 0.0134 - accuracy: 1.0000\n",
      "Epoch 34/50\n",
      "1/1 [==============================] - 0s 23ms/step - loss: 0.0116 - accuracy: 1.0000\n",
      "Epoch 35/50\n",
      "1/1 [==============================] - 0s 20ms/step - loss: 0.0102 - accuracy: 1.0000\n",
      "Epoch 36/50\n",
      "1/1 [==============================] - 0s 25ms/step - loss: 0.0091 - accuracy: 1.0000\n",
      "Epoch 37/50\n",
      "1/1 [==============================] - 0s 22ms/step - loss: 0.0082 - accuracy: 1.0000\n",
      "Epoch 38/50\n",
      "1/1 [==============================] - 0s 24ms/step - loss: 0.0075 - accuracy: 1.0000\n",
      "Epoch 39/50\n",
      "1/1 [==============================] - 0s 24ms/step - loss: 0.0070 - accuracy: 1.0000\n",
      "Epoch 40/50\n",
      "1/1 [==============================] - 0s 20ms/step - loss: 0.0064 - accuracy: 1.0000\n",
      "Epoch 41/50\n",
      "1/1 [==============================] - 0s 24ms/step - loss: 0.0060 - accuracy: 1.0000\n",
      "Epoch 42/50\n",
      "1/1 [==============================] - 0s 24ms/step - loss: 0.0055 - accuracy: 1.0000\n",
      "Epoch 43/50\n",
      "1/1 [==============================] - 0s 21ms/step - loss: 0.0051 - accuracy: 1.0000\n",
      "Epoch 44/50\n",
      "1/1 [==============================] - 0s 25ms/step - loss: 0.0048 - accuracy: 1.0000\n",
      "Epoch 45/50\n",
      "1/1 [==============================] - 0s 25ms/step - loss: 0.0045 - accuracy: 1.0000\n",
      "Epoch 46/50\n",
      "1/1 [==============================] - 0s 25ms/step - loss: 0.0042 - accuracy: 1.0000\n",
      "Epoch 47/50\n",
      "1/1 [==============================] - 0s 25ms/step - loss: 0.0040 - accuracy: 1.0000\n",
      "Epoch 48/50\n",
      "1/1 [==============================] - 0s 21ms/step - loss: 0.0038 - accuracy: 1.0000\n",
      "Epoch 49/50\n",
      "1/1 [==============================] - 0s 20ms/step - loss: 0.0037 - accuracy: 1.0000\n",
      "Epoch 50/50\n",
      "1/1 [==============================] - 0s 27ms/step - loss: 0.0035 - accuracy: 1.0000\n",
      "Model: \"sequential_3\"\n",
      "_________________________________________________________________\n",
      " Layer (type)                Output Shape              Param #   \n",
      "=================================================================\n",
      " rnn (RNN)                   (None, 6, 5)              220       \n",
      "                                                                 \n",
      " time_distributed (TimeDistr  (None, 6, 5)             30        \n",
      " ibuted)                                                         \n",
      "                                                                 \n",
      "=================================================================\n",
      "Total params: 250\n",
      "Trainable params: 250\n",
      "Non-trainable params: 0\n",
      "_________________________________________________________________\n",
      "1/1 [==============================] - 0s 279ms/step\n",
      "[[2.3339260e-05 9.9467093e-01 1.6724066e-03 3.6333615e-03 1.3179558e-08]\n",
      " [9.9817157e-01 7.9399761e-04 1.0225843e-03 1.0255732e-05 1.5696942e-06]\n",
      " [1.6285245e-03 1.5844693e-03 9.9677104e-01 1.3816567e-05 2.1735461e-06]\n",
      " [1.6671740e-07 2.7694877e-03 2.3710805e-07 9.9722713e-01 2.9419405e-06]\n",
      " [4.5981060e-06 2.6751313e-04 6.2230706e-06 9.9743348e-01 2.2881930e-03]\n",
      " [2.5162579e-05 6.3451029e-07 1.9442499e-05 4.7306712e-03 9.9522406e-01]]\n",
      "\tPrediction str:  ihello\n"
     ]
    }
   ],
   "source": [
    "# fully connected layer\n",
    "tf.model.add(tf.keras.layers.TimeDistributed(tf.keras.layers.Dense(units=num_classes, activation='softmax')))\n",
    "tf.model.compile(loss='categorical_crossentropy', optimizer=tf.keras.optimizers.Adam(learning_rate=learning_rate),\n",
    "  metrics=['accuracy'])\n",
    "\n",
    "# train\n",
    "tf.model.fit(x_one_hot, y_one_hot, epochs=50)\n",
    "tf.model.summary()\n",
    "\n",
    "predictions = tf.model.predict(x_one_hot)\n",
    "for i, prediction in enumerate(predictions):\n",
    "  print(prediction)\n",
    "  # print char using argmax, dict\n",
    "  result_str = [idx2char[c] for c in np.argmax(prediction, axis=1)]\n",
    "  print(\"\\tPrediction str: \", ''.join(result_str))\n"
   ]
  }
 ],
 "metadata": {
  "accelerator": "GPU",
  "colab": {
   "authorship_tag": "ABX9TyMJ5RI5qCBJVGPFMDY3qElY",
   "collapsed_sections": [],
   "name": "딥러닝실습.ipynb",
   "provenance": []
  },
  "gpuClass": "standard",
  "kernelspec": {
   "display_name": "Python 3 (ipykernel)",
   "language": "python",
   "name": "python3"
  },
  "language_info": {
   "codemirror_mode": {
    "name": "ipython",
    "version": 3
   },
   "file_extension": ".py",
   "mimetype": "text/x-python",
   "name": "python",
   "nbconvert_exporter": "python",
   "pygments_lexer": "ipython3",
   "version": "3.10.5"
  }
 },
 "nbformat": 4,
 "nbformat_minor": 1
}
